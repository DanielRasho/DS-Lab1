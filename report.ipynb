{
 "cells": [
  {
   "cell_type": "markdown",
   "id": "929f73aa",
   "metadata": {},
   "source": [
    "# Laboratorio 1\n",
    "\n",
    "- Daniel Alfredo Rayo Roldan\n",
    "- Gerardo Pineda Riveiro"
   ]
  },
  {
   "cell_type": "code",
   "execution_count": null,
   "id": "80ad1e19",
   "metadata": {},
   "outputs": [],
   "source": []
  },
  {
   "cell_type": "markdown",
   "id": "86d57060",
   "metadata": {},
   "source": [
    "## Cargado de datos"
   ]
  },
  {
   "cell_type": "markdown",
   "id": "5f10ab54",
   "metadata": {},
   "source": []
  },
  {
   "cell_type": "markdown",
   "id": "130a3840",
   "metadata": {},
   "source": [
    "## Exploración de Datos"
   ]
  },
  {
   "cell_type": "markdown",
   "id": "5352a324",
   "metadata": {},
   "source": [
    "### Precios de Gasolina"
   ]
  },
  {
   "cell_type": "markdown",
   "id": "fd826bac",
   "metadata": {},
   "source": [
    "### Precios de Diesel"
   ]
  },
  {
   "cell_type": "markdown",
   "id": "d0572bee",
   "metadata": {},
   "source": [
    "### Precios de Gas Licuado"
   ]
  }
 ],
 "metadata": {
  "kernelspec": {
   "display_name": ".venv",
   "language": "python",
   "name": "python3"
  },
  "language_info": {
   "name": "python",
   "version": "3.13.5"
  }
 },
 "nbformat": 4,
 "nbformat_minor": 5
}
