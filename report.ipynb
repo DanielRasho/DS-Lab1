{
 "cells": [
  {
   "cell_type": "markdown",
   "id": "929f73aa",
   "metadata": {},
   "source": [
    "# Laboratorio 1\n",
    "\n",
    "- Daniel Alfredo Rayo Roldan\n",
    "- Gerardo Pineda Riveiro"
   ]
  },
  {
   "cell_type": "code",
   "execution_count": 1,
   "id": "80ad1e19",
   "metadata": {},
   "outputs": [
    {
     "ename": "ModuleNotFoundError",
     "evalue": "No module named 'rdata'",
     "output_type": "error",
     "traceback": [
      "\u001b[31m---------------------------------------------------------------------------\u001b[39m",
      "\u001b[31mModuleNotFoundError\u001b[39m                       Traceback (most recent call last)",
      "\u001b[36mCell\u001b[39m\u001b[36m \u001b[39m\u001b[32mIn[1]\u001b[39m\u001b[32m, line 1\u001b[39m\n\u001b[32m----> \u001b[39m\u001b[32m1\u001b[39m \u001b[38;5;28;01mimport\u001b[39;00m\u001b[38;5;250m \u001b[39m\u001b[34;01mrdata\u001b[39;00m\n\u001b[32m      2\u001b[39m \u001b[38;5;28;01mimport\u001b[39;00m\u001b[38;5;250m \u001b[39m\u001b[34;01mpandas\u001b[39;00m\u001b[38;5;250m \u001b[39m\u001b[38;5;28;01mas\u001b[39;00m\u001b[38;5;250m \u001b[39m\u001b[34;01mpd\u001b[39;00m\n\u001b[32m      3\u001b[39m \u001b[38;5;28;01mimport\u001b[39;00m\u001b[38;5;250m \u001b[39m\u001b[34;01mmatplotlib\u001b[39;00m\u001b[34;01m.\u001b[39;00m\u001b[34;01mpyplot\u001b[39;00m\u001b[38;5;250m \u001b[39m\u001b[38;5;28;01mas\u001b[39;00m\u001b[38;5;250m \u001b[39m\u001b[34;01mplt\u001b[39;00m\n",
      "\u001b[31mModuleNotFoundError\u001b[39m: No module named 'rdata'"
     ]
    }
   ],
   "source": [
    "import rdata\n",
    "import pandas as pd\n",
    "import matplotlib.pyplot as plt\n",
    "import numpy as np\n",
    "\n",
    "import statsmodels.tsa as tsa\n",
    "import statsmodels as sm\n",
    "from datetime import datetime\n",
    "from statsmodels.tsa.stattools import adfuller\n",
    "from statsmodels.tsa.seasonal import seasonal_decompose\n",
    "from statsmodels.tsa.stattools import acf, pacf\n",
    "from statsmodels.tsa.arima_model import ARIMA\n",
    "from statsmodels.tsa.statespace.sarimax import SARIMAX"
   ]
  },
  {
   "cell_type": "markdown",
   "id": "86d57060",
   "metadata": {},
   "source": [
    "## Cargado de datos"
   ]
  },
  {
   "cell_type": "markdown",
   "id": "5f10ab54",
   "metadata": {},
   "source": []
  },
  {
   "cell_type": "markdown",
   "id": "130a3840",
   "metadata": {},
   "source": [
    "## Exploración de Datos"
   ]
  },
  {
   "cell_type": "markdown",
   "id": "5352a324",
   "metadata": {},
   "source": [
    "### Precios de Gasolina"
   ]
  },
  {
   "cell_type": "code",
   "execution_count": null,
   "id": "721046d3",
   "metadata": {},
   "outputs": [],
   "source": [
    "# Basic info\n",
    "print(df.info())\n",
    "print(df.describe())\n",
    "\n",
    "# Check for missing values\n",
    "print(df.isna().sum())\n",
    "\n",
    "# Preview data\n",
    "print(df.head())"
   ]
  },
  {
   "cell_type": "code",
   "execution_count": null,
   "id": "d27c0798",
   "metadata": {},
   "outputs": [],
   "source": [
    "# Line plot of all fuel prices\n",
    "df.plot(figsize=(14, 6), title=\"Fuel Prices Over Time\")\n",
    "plt.ylabel(\"Price\")\n",
    "plt.xlabel(\"Date\")\n",
    "plt.grid(True)\n",
    "plt.show()"
   ]
  },
  {
   "cell_type": "code",
   "execution_count": null,
   "id": "14fa21ce",
   "metadata": {},
   "outputs": [],
   "source": [
    "from statsmodels.graphics.tsaplots import plot_acf\n",
    "\n",
    "# Example: use 'gasoline' price series\n",
    "plt.figure(figsize=(10, 5))\n",
    "plot_acf(df['gasoline'], lags=40)\n",
    "plt.title(\"Autocorrelation Plot - Gasoline Prices\")\n",
    "plt.show()"
   ]
  },
  {
   "cell_type": "markdown",
   "id": "fd826bac",
   "metadata": {},
   "source": [
    "### Precios de Diesel"
   ]
  },
  {
   "cell_type": "markdown",
   "id": "d0572bee",
   "metadata": {},
   "source": [
    "### Precios de Gas Licuado"
   ]
  },
  {
   "cell_type": "markdown",
   "id": "2c93b257",
   "metadata": {},
   "source": [
    "## Series temporales"
   ]
  },
  {
   "cell_type": "markdown",
   "id": "d48ecd29",
   "metadata": {},
   "source": [
    "### Precios de Gasolina"
   ]
  },
  {
   "cell_type": "markdown",
   "id": "1a9b39a8",
   "metadata": {},
   "source": []
  },
  {
   "cell_type": "markdown",
   "id": "a10b2107",
   "metadata": {},
   "source": []
  }
 ],
 "metadata": {
  "kernelspec": {
   "display_name": ".venv",
   "language": "python",
   "name": "python3"
  },
  "language_info": {
   "codemirror_mode": {
    "name": "ipython",
    "version": 3
   },
   "file_extension": ".py",
   "mimetype": "text/x-python",
   "name": "python",
   "nbconvert_exporter": "python",
   "pygments_lexer": "ipython3",
   "version": "3.13.5"
  }
 },
 "nbformat": 4,
 "nbformat_minor": 5
}
