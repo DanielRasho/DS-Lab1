{
 "cells": [
  {
   "cell_type": "markdown",
   "id": "929f73aa",
   "metadata": {},
   "source": [
    "# Laboratorio 1\n",
    "\n",
    "- Daniel Alfredo Rayo Roldan\n",
    "- Gerardo Pineda Riveiro"
   ]
  },
  {
   "cell_type": "code",
   "execution_count": 1,
   "id": "80ad1e19",
   "metadata": {},
   "outputs": [],
   "source": [
    "# pip install openpyxl instalar esto\n",
    "import rdata\n",
    "import pandas as pd\n",
    "import matplotlib.pyplot as plt\n",
    "import numpy as np\n",
    "\n",
    "import statsmodels.tsa as tsa\n",
    "import statsmodels as sm\n",
    "from datetime import datetime\n",
    "from statsmodels.tsa.stattools import adfuller\n",
    "from statsmodels.tsa.seasonal import seasonal_decompose\n",
    "from statsmodels.tsa.stattools import acf, pacf\n",
    "from statsmodels.tsa.arima_model import ARIMA\n",
    "from statsmodels.tsa.statespace.sarimax import SARIMAX"
   ]
  },
  {
   "cell_type": "markdown",
   "id": "86d57060",
   "metadata": {},
   "source": [
    "## Cargado de datos"
   ]
  },
  {
   "cell_type": "code",
   "execution_count": 2,
   "id": "2eca01b8",
   "metadata": {},
   "outputs": [],
   "source": [
    "xls = pd.read_excel(\"./data/Precios-Promedio-Nacionales-Diarios-2025-1.xlsx\", sheet_name=None)\n",
    "\n",
    "resultados = {}\n",
    "\n",
    "for nombre_hoja, df in xls.items():\n",
    "    hoja_df = pd.read_excel(\"./data/Precios-Promedio-Nacionales-Diarios-2025-1.xlsx\", sheet_name=nombre_hoja, header=7, usecols=\"A,B,C,D,E,F,G,H\")\n",
    "    resultados[nombre_hoja] = hoja_df"
   ]
  },
  {
   "cell_type": "code",
   "execution_count": 3,
   "id": "0df10617",
   "metadata": {},
   "outputs": [
    {
     "name": "stdout",
     "output_type": "stream",
     "text": [
      "['2025', '2024', '2023', '2022', '2021']\n"
     ]
    }
   ],
   "source": [
    "hojas = pd.ExcelFile(\"./data/Precios-Promedio-Nacionales-Diarios-2025-1.xlsx\").sheet_names\n",
    "print(hojas)"
   ]
  },
  {
   "cell_type": "code",
   "execution_count": null,
   "id": "f6b5f979",
   "metadata": {},
   "outputs": [
    {
     "data": {
      "application/vnd.microsoft.datawrangler.viewer.v0+json": {
       "columns": [
        {
         "name": "index",
         "rawType": "int64",
         "type": "integer"
        },
        {
         "name": "FECHA",
         "rawType": "object",
         "type": "unknown"
        },
        {
         "name": "Tipo de Cambio",
         "rawType": "object",
         "type": "unknown"
        },
        {
         "name": "Superior",
         "rawType": "object",
         "type": "unknown"
        },
        {
         "name": "Regular",
         "rawType": "object",
         "type": "unknown"
        },
        {
         "name": "Diesel",
         "rawType": "object",
         "type": "unknown"
        },
        {
         "name": "Bunker",
         "rawType": "object",
         "type": "unknown"
        },
        {
         "name": "Glp Cilindro 25Lbs.",
         "rawType": "object",
         "type": "unknown"
        },
        {
         "name": "Unnamed: 7",
         "rawType": "object",
         "type": "unknown"
        }
       ],
       "ref": "a4ebd0a0-70ba-4f12-90fa-283d2be6f55d",
       "rows": [
        [
         "0",
         null,
         "GTQ/USD",
         "GTQ/GALON",
         "GTQ/GALON",
         "GTQ/GALON",
         "GTQ/GALON",
         "GTQ/CIL 25 LB",
         "GTQ/LB"
        ],
        [
         "1",
         "2024-01-01 00:00:00",
         "7.82702",
         "30.44",
         "28.95",
         "29.47",
         "18.99",
         "115",
         "4.6"
        ],
        [
         "2",
         "2024-01-02 00:00:00",
         "7.82481",
         "30.44",
         "28.95",
         "29.47",
         "18.99",
         "115",
         "4.6"
        ],
        [
         "3",
         "2024-01-03 00:00:00",
         "7.82445",
         "30.47",
         "28.97",
         "29.48",
         "18.99",
         "115",
         "4.6"
        ],
        [
         "4",
         "2024-01-04 00:00:00",
         "7.82409",
         "30.47",
         "28.97",
         "29.48",
         "18.99",
         "115",
         "4.6"
        ],
        [
         "5",
         "2024-01-05 00:00:00",
         "7.82322",
         "30.47",
         "28.97",
         "29.48",
         "18.99",
         "115",
         "4.6"
        ],
        [
         "6",
         "2024-01-06 00:00:00",
         "7.82322",
         "30.47",
         "28.97",
         "29.48",
         "18.99",
         "115",
         "4.6"
        ],
        [
         "7",
         "2024-01-07 00:00:00",
         "7.82322",
         "30.47",
         "28.97",
         "29.48",
         "18.99",
         "115",
         "4.6"
        ],
        [
         "8",
         "2024-01-08 00:00:00",
         "7.81941",
         "30.47",
         "28.97",
         "29.48",
         "18.99",
         "115",
         "4.6"
        ],
        [
         "9",
         "2024-01-09 00:00:00",
         "7.81686",
         "30.47",
         "28.97",
         "29.48",
         "18.99",
         "115",
         "4.6"
        ],
        [
         "10",
         "2024-01-10 00:00:00",
         "7.82016",
         "30.47",
         "28.97",
         "29.48",
         "18.99",
         "115",
         "4.6"
        ],
        [
         "11",
         "2024-01-11 00:00:00",
         "7.81767",
         "30.47",
         "28.97",
         "29.48",
         "18.99",
         "115",
         "4.6"
        ],
        [
         "12",
         "2024-01-12 00:00:00",
         "7.82083",
         "30.47",
         "28.97",
         "29.48",
         "18.99",
         "115",
         "4.6"
        ],
        [
         "13",
         "2024-01-13 00:00:00",
         "7.82083",
         "30.47",
         "28.97",
         "29.48",
         "18.99",
         "115",
         "4.6"
        ],
        [
         "14",
         "2024-01-14 00:00:00",
         "7.82083",
         "30.47",
         "28.97",
         "29.48",
         "18.99",
         "115",
         "4.6"
        ],
        [
         "15",
         "2024-01-15 00:00:00",
         "7.81224",
         "30.29",
         "28.79",
         "28.55",
         "18.49",
         "115",
         "4.6"
        ],
        [
         "16",
         "2024-01-16 00:00:00",
         "7.81402",
         "30.29",
         "28.79",
         "28.55",
         "18.49",
         "115",
         "4.6"
        ],
        [
         "17",
         "2024-01-17 00:00:00",
         "7.81651",
         "30.29",
         "28.79",
         "28.55",
         "18.49",
         "115",
         "4.6"
        ],
        [
         "18",
         "2024-01-18 00:00:00",
         "7.81988",
         "30.29",
         "28.79",
         "28.55",
         "18.49",
         "115",
         "4.6"
        ],
        [
         "19",
         "2024-01-19 00:00:00",
         "7.81782",
         "30.29",
         "28.79",
         "28.55",
         "18.49",
         "115",
         "4.6"
        ],
        [
         "20",
         "2024-01-20 00:00:00",
         "7.81782",
         "30.29",
         "28.79",
         "28.55",
         "18.49",
         "115",
         "4.6"
        ],
        [
         "21",
         "2024-01-21 00:00:00",
         "7.81782",
         "30.29",
         "28.79",
         "28.55",
         "18.49",
         "115",
         "4.6"
        ],
        [
         "22",
         "2024-01-22 00:00:00",
         "7.81494",
         "30.9",
         "29.39",
         "29.11",
         "17.99",
         "115",
         "4.6"
        ],
        [
         "23",
         "2024-01-23 00:00:00",
         "7.81473",
         "30.9",
         "29.39",
         "29.11",
         "17.99",
         "115",
         "4.6"
        ],
        [
         "24",
         "2024-01-24 00:00:00",
         "7.81578",
         "30.9",
         "29.39",
         "29.11",
         "17.99",
         "115",
         "4.6"
        ],
        [
         "25",
         "2024-01-25 00:00:00",
         "7.8187",
         "30.9",
         "29.39",
         "29.11",
         "17.99",
         "115",
         "4.6"
        ],
        [
         "26",
         "2024-01-26 00:00:00",
         "7.81541",
         "30.9",
         "29.39",
         "29.11",
         "17.99",
         "115",
         "4.6"
        ],
        [
         "27",
         "2024-01-27 00:00:00",
         "7.81541",
         "30.9",
         "29.39",
         "29.11",
         "17.99",
         "115",
         "4.6"
        ],
        [
         "28",
         "2024-01-28 00:00:00",
         "7.81541",
         "30.9",
         "29.39",
         "29.11",
         "17.99",
         "115",
         "4.6"
        ],
        [
         "29",
         "2024-01-29 00:00:00",
         "7.81382",
         "30.97",
         "29.48",
         "29.19",
         "17.99",
         "115",
         "4.6"
        ],
        [
         "30",
         "2024-01-30 00:00:00",
         "7.81142",
         "30.97",
         "29.48",
         "29.19",
         "17.99",
         "115",
         "4.6"
        ],
        [
         "31",
         "2024-01-31 00:00:00",
         "7.81454",
         "30.97",
         "29.48",
         "29.19",
         "17.99",
         "115",
         "4.6"
        ],
        [
         "32",
         "2024-02-01 00:00:00",
         "7.81252",
         "30.97",
         "29.48",
         "29.19",
         "17.99",
         "115",
         "4.6"
        ],
        [
         "33",
         "2024-02-02 00:00:00",
         "7.81323",
         "30.97",
         "29.48",
         "29.19",
         "17.99",
         "115",
         "4.6"
        ],
        [
         "34",
         "2024-02-03 00:00:00",
         "7.81323",
         "30.97",
         "29.48",
         "29.19",
         "17.99",
         "115",
         "4.6"
        ],
        [
         "35",
         "2024-02-04 00:00:00",
         "7.81323",
         "30.97",
         "29.48",
         "29.19",
         "17.99",
         "115",
         "4.6"
        ],
        [
         "36",
         "2024-02-05 00:00:00",
         "7.81166",
         "31.46",
         "29.96",
         "30.44",
         "17.99",
         "115",
         "4.6"
        ],
        [
         "37",
         "2024-02-06 00:00:00",
         "7.81149",
         "31.46",
         "29.96",
         "30.44",
         "17.99",
         "115",
         "4.6"
        ],
        [
         "38",
         "2024-02-07 00:00:00",
         "7.81172",
         "31.46",
         "29.96",
         "30.44",
         "17.99",
         "115",
         "4.6"
        ],
        [
         "39",
         "2024-02-08 00:00:00",
         "7.81098",
         "31.46",
         "29.96",
         "30.44",
         "17.99",
         "115",
         "4.6"
        ],
        [
         "40",
         "2024-02-09 00:00:00",
         "7.80938",
         "31.46",
         "29.96",
         "30.44",
         "17.99",
         "115",
         "4.6"
        ],
        [
         "41",
         "2024-02-10 00:00:00",
         "7.80938",
         "31.46",
         "29.96",
         "30.44",
         "17.99",
         "115",
         "4.6"
        ],
        [
         "42",
         "2024-02-11 00:00:00",
         "7.80938",
         "31.46",
         "29.96",
         "30.44",
         "17.99",
         "115",
         "4.6"
        ],
        [
         "43",
         "2024-02-12 00:00:00",
         "7.80661",
         "31.47",
         "29.97",
         "30.47",
         "17.49",
         "115",
         "4.6"
        ],
        [
         "44",
         "2024-02-13 00:00:00",
         "7.80679",
         "31.47",
         "29.97",
         "30.47",
         "17.49",
         "115",
         "4.6"
        ],
        [
         "45",
         "2024-02-14 00:00:00",
         "7.8062",
         "31.47",
         "29.97",
         "30.47",
         "17.49",
         "115",
         "4.6"
        ],
        [
         "46",
         "2024-02-15 00:00:00",
         "7.80652",
         "31.47",
         "29.97",
         "30.47",
         "17.49",
         "115",
         "4.6"
        ],
        [
         "47",
         "2024-02-16 00:00:00",
         "7.81128",
         "31.47",
         "29.97",
         "30.47",
         "17.49",
         "115",
         "4.6"
        ],
        [
         "48",
         "2024-02-17 00:00:00",
         "7.81128",
         "31.47",
         "29.97",
         "30.47",
         "17.49",
         "115",
         "4.6"
        ],
        [
         "49",
         "2024-02-18 00:00:00",
         "7.81128",
         "31.47",
         "29.97",
         "30.47",
         "17.49",
         "115",
         "4.6"
        ]
       ],
       "shape": {
        "columns": 8,
        "rows": 369
       }
      },
      "text/html": [
       "<div>\n",
       "<style scoped>\n",
       "    .dataframe tbody tr th:only-of-type {\n",
       "        vertical-align: middle;\n",
       "    }\n",
       "\n",
       "    .dataframe tbody tr th {\n",
       "        vertical-align: top;\n",
       "    }\n",
       "\n",
       "    .dataframe thead th {\n",
       "        text-align: right;\n",
       "    }\n",
       "</style>\n",
       "<table border=\"1\" class=\"dataframe\">\n",
       "  <thead>\n",
       "    <tr style=\"text-align: right;\">\n",
       "      <th></th>\n",
       "      <th>FECHA</th>\n",
       "      <th>Tipo de Cambio</th>\n",
       "      <th>Superior</th>\n",
       "      <th>Regular</th>\n",
       "      <th>Diesel</th>\n",
       "      <th>Bunker</th>\n",
       "      <th>Glp Cilindro 25Lbs.</th>\n",
       "      <th>Unnamed: 7</th>\n",
       "    </tr>\n",
       "  </thead>\n",
       "  <tbody>\n",
       "    <tr>\n",
       "      <th>0</th>\n",
       "      <td>NaN</td>\n",
       "      <td>GTQ/USD</td>\n",
       "      <td>GTQ/GALON</td>\n",
       "      <td>GTQ/GALON</td>\n",
       "      <td>GTQ/GALON</td>\n",
       "      <td>GTQ/GALON</td>\n",
       "      <td>GTQ/CIL 25 LB</td>\n",
       "      <td>GTQ/LB</td>\n",
       "    </tr>\n",
       "    <tr>\n",
       "      <th>1</th>\n",
       "      <td>2024-01-01 00:00:00</td>\n",
       "      <td>7.82702</td>\n",
       "      <td>30.44</td>\n",
       "      <td>28.95</td>\n",
       "      <td>29.47</td>\n",
       "      <td>18.99</td>\n",
       "      <td>115</td>\n",
       "      <td>4.6</td>\n",
       "    </tr>\n",
       "    <tr>\n",
       "      <th>2</th>\n",
       "      <td>2024-01-02 00:00:00</td>\n",
       "      <td>7.82481</td>\n",
       "      <td>30.44</td>\n",
       "      <td>28.95</td>\n",
       "      <td>29.47</td>\n",
       "      <td>18.99</td>\n",
       "      <td>115</td>\n",
       "      <td>4.6</td>\n",
       "    </tr>\n",
       "    <tr>\n",
       "      <th>3</th>\n",
       "      <td>2024-01-03 00:00:00</td>\n",
       "      <td>7.82445</td>\n",
       "      <td>30.47</td>\n",
       "      <td>28.97</td>\n",
       "      <td>29.48</td>\n",
       "      <td>18.99</td>\n",
       "      <td>115</td>\n",
       "      <td>4.6</td>\n",
       "    </tr>\n",
       "    <tr>\n",
       "      <th>4</th>\n",
       "      <td>2024-01-04 00:00:00</td>\n",
       "      <td>7.82409</td>\n",
       "      <td>30.47</td>\n",
       "      <td>28.97</td>\n",
       "      <td>29.48</td>\n",
       "      <td>18.99</td>\n",
       "      <td>115</td>\n",
       "      <td>4.6</td>\n",
       "    </tr>\n",
       "    <tr>\n",
       "      <th>...</th>\n",
       "      <td>...</td>\n",
       "      <td>...</td>\n",
       "      <td>...</td>\n",
       "      <td>...</td>\n",
       "      <td>...</td>\n",
       "      <td>...</td>\n",
       "      <td>...</td>\n",
       "      <td>...</td>\n",
       "    </tr>\n",
       "    <tr>\n",
       "      <th>364</th>\n",
       "      <td>2024-12-29 00:00:00</td>\n",
       "      <td>7.70694</td>\n",
       "      <td>28.99</td>\n",
       "      <td>27.49</td>\n",
       "      <td>25.51</td>\n",
       "      <td>17.94</td>\n",
       "      <td>110</td>\n",
       "      <td>4.4</td>\n",
       "    </tr>\n",
       "    <tr>\n",
       "      <th>365</th>\n",
       "      <td>2024-12-30 00:00:00</td>\n",
       "      <td>7.70625</td>\n",
       "      <td>28.95</td>\n",
       "      <td>27.45</td>\n",
       "      <td>25.47</td>\n",
       "      <td>18.74</td>\n",
       "      <td>110</td>\n",
       "      <td>4.4</td>\n",
       "    </tr>\n",
       "    <tr>\n",
       "      <th>366</th>\n",
       "      <td>2024-12-31 00:00:00</td>\n",
       "      <td>7.70625</td>\n",
       "      <td>28.95</td>\n",
       "      <td>27.45</td>\n",
       "      <td>25.47</td>\n",
       "      <td>18.74</td>\n",
       "      <td>110</td>\n",
       "      <td>4.4</td>\n",
       "    </tr>\n",
       "    <tr>\n",
       "      <th>367</th>\n",
       "      <td>Fuente precios nacionales: Sección Comercializ...</td>\n",
       "      <td>NaN</td>\n",
       "      <td>NaN</td>\n",
       "      <td>NaN</td>\n",
       "      <td>NaN</td>\n",
       "      <td>NaN</td>\n",
       "      <td>NaN</td>\n",
       "      <td>NaN</td>\n",
       "    </tr>\n",
       "    <tr>\n",
       "      <th>368</th>\n",
       "      <td>Fuente tipo de cambio: Banco de Guatemala.</td>\n",
       "      <td>NaN</td>\n",
       "      <td>NaN</td>\n",
       "      <td>NaN</td>\n",
       "      <td>NaN</td>\n",
       "      <td>NaN</td>\n",
       "      <td>NaN</td>\n",
       "      <td>NaN</td>\n",
       "    </tr>\n",
       "  </tbody>\n",
       "</table>\n",
       "<p>369 rows × 8 columns</p>\n",
       "</div>"
      ],
      "text/plain": [
       "                                                 FECHA Tipo de Cambio  \\\n",
       "0                                                  NaN        GTQ/USD   \n",
       "1                                  2024-01-01 00:00:00        7.82702   \n",
       "2                                  2024-01-02 00:00:00        7.82481   \n",
       "3                                  2024-01-03 00:00:00        7.82445   \n",
       "4                                  2024-01-04 00:00:00        7.82409   \n",
       "..                                                 ...            ...   \n",
       "364                                2024-12-29 00:00:00        7.70694   \n",
       "365                                2024-12-30 00:00:00        7.70625   \n",
       "366                                2024-12-31 00:00:00        7.70625   \n",
       "367  Fuente precios nacionales: Sección Comercializ...            NaN   \n",
       "368         Fuente tipo de cambio: Banco de Guatemala.            NaN   \n",
       "\n",
       "      Superior    Regular     Diesel     Bunker Glp Cilindro 25Lbs. Unnamed: 7  \n",
       "0    GTQ/GALON  GTQ/GALON  GTQ/GALON  GTQ/GALON       GTQ/CIL 25 LB     GTQ/LB  \n",
       "1        30.44      28.95      29.47      18.99                 115        4.6  \n",
       "2        30.44      28.95      29.47      18.99                 115        4.6  \n",
       "3        30.47      28.97      29.48      18.99                 115        4.6  \n",
       "4        30.47      28.97      29.48      18.99                 115        4.6  \n",
       "..         ...        ...        ...        ...                 ...        ...  \n",
       "364      28.99      27.49      25.51      17.94                 110        4.4  \n",
       "365      28.95      27.45      25.47      18.74                 110        4.4  \n",
       "366      28.95      27.45      25.47      18.74                 110        4.4  \n",
       "367        NaN        NaN        NaN        NaN                 NaN        NaN  \n",
       "368        NaN        NaN        NaN        NaN                 NaN        NaN  \n",
       "\n",
       "[369 rows x 8 columns]"
      ]
     },
     "execution_count": 4,
     "metadata": {},
     "output_type": "execute_result"
    }
   ],
   "source": [
    "resultados[\"2024\"]"
   ]
  },
  {
   "cell_type": "markdown",
   "id": "130a3840",
   "metadata": {},
   "source": [
    "## Exploración de Datos"
   ]
  },
  {
   "cell_type": "markdown",
   "id": "5352a324",
   "metadata": {},
   "source": [
    "### Precios de Gasolina"
   ]
  },
  {
   "cell_type": "code",
   "execution_count": null,
   "id": "721046d3",
   "metadata": {},
   "outputs": [],
   "source": [
    "# Basic info\n",
    "print(df.info())\n",
    "print(df.describe())\n",
    "\n",
    "# Check for missing values\n",
    "print(df.isna().sum())\n",
    "\n",
    "# Preview data\n",
    "print(df.head())"
   ]
  },
  {
   "cell_type": "code",
   "execution_count": null,
   "id": "d27c0798",
   "metadata": {},
   "outputs": [],
   "source": [
    "# Line plot of all fuel prices\n",
    "df.plot(figsize=(14, 6), title=\"Fuel Prices Over Time\")\n",
    "plt.ylabel(\"Price\")\n",
    "plt.xlabel(\"Date\")\n",
    "plt.grid(True)\n",
    "plt.show()"
   ]
  },
  {
   "cell_type": "code",
   "execution_count": null,
   "id": "14fa21ce",
   "metadata": {},
   "outputs": [],
   "source": [
    "from statsmodels.graphics.tsaplots import plot_acf\n",
    "\n",
    "# Example: use 'gasoline' price series\n",
    "plt.figure(figsize=(10, 5))\n",
    "plot_acf(df['gasoline'], lags=40)\n",
    "plt.title(\"Autocorrelation Plot - Gasoline Prices\")\n",
    "plt.show()"
   ]
  },
  {
   "cell_type": "markdown",
   "id": "fd826bac",
   "metadata": {},
   "source": [
    "### Precios de Diesel"
   ]
  },
  {
   "cell_type": "markdown",
   "id": "d0572bee",
   "metadata": {},
   "source": [
    "### Precios de Gas Licuado"
   ]
  },
  {
   "cell_type": "markdown",
   "id": "2c93b257",
   "metadata": {},
   "source": [
    "## Series temporales"
   ]
  },
  {
   "cell_type": "markdown",
   "id": "d48ecd29",
   "metadata": {},
   "source": [
    "### Precios de Gasolina"
   ]
  },
  {
   "cell_type": "markdown",
   "id": "1a9b39a8",
   "metadata": {},
   "source": []
  },
  {
   "cell_type": "markdown",
   "id": "a10b2107",
   "metadata": {},
   "source": []
  }
 ],
 "metadata": {
  "kernelspec": {
   "display_name": "Python 3",
   "language": "python",
   "name": "python3"
  },
  "language_info": {
   "codemirror_mode": {
    "name": "ipython",
    "version": 3
   },
   "file_extension": ".py",
   "mimetype": "text/x-python",
   "name": "python",
   "nbconvert_exporter": "python",
   "pygments_lexer": "ipython3",
   "version": "3.11.9"
  }
 },
 "nbformat": 4,
 "nbformat_minor": 5
}
