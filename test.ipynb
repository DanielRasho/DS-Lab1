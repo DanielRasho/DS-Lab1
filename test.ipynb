{
 "cells": [
  {
   "cell_type": "code",
   "execution_count": 1,
   "id": "3e9732ca",
   "metadata": {},
   "outputs": [],
   "source": [
    "import pandas as pd"
   ]
  },
  {
   "cell_type": "code",
   "execution_count": null,
   "id": "4b0fd961",
   "metadata": {},
   "outputs": [],
   "source": [
    "xls = pd.read_excel(\"./data/Precios-Promedio-Nacionales-Diarios-2025-1.xlsx\", sheet_name=None)\n",
    "\n"
   ]
  },
  {
   "cell_type": "code",
   "execution_count": 6,
   "id": "075cac84",
   "metadata": {},
   "outputs": [
    {
     "name": "stdout",
     "output_type": "stream",
     "text": [
      "['2025', '2024', '2023', '2022', '2021']\n"
     ]
    }
   ],
   "source": [
    "hojas = pd.ExcelFile(\"./data/Precios-Promedio-Nacionales-Diarios-2025-1.xlsx\").sheet_names\n",
    "print(hojas)"
   ]
  },
  {
   "cell_type": "code",
   "execution_count": null,
   "id": "9dc41ba4",
   "metadata": {},
   "outputs": [],
   "source": [
    "resultados = {}\n",
    "\n",
    "for nombre_hoja, df in xls.items():\n",
    "    hoja_df = pd.read_excel(\"./data/Precios-Promedio-Nacionales-Diarios-2025-1.xlsx\", sheet_name=nombre_hoja, header=7, usecols=\"A,C\")\n",
    "    resultados[nombre_hoja] = hoja_df"
   ]
  },
  {
   "cell_type": "code",
   "execution_count": 12,
   "id": "bb66e5a8",
   "metadata": {},
   "outputs": [
    {
     "data": {
      "application/vnd.microsoft.datawrangler.viewer.v0+json": {
       "columns": [
        {
         "name": "index",
         "rawType": "int64",
         "type": "integer"
        },
        {
         "name": "FECHA",
         "rawType": "object",
         "type": "unknown"
        },
        {
         "name": "Superior",
         "rawType": "object",
         "type": "unknown"
        }
       ],
       "ref": "09665de8-aa10-4582-bc99-70e7545a92fe",
       "rows": [
        [
         "0",
         null,
         "GTQ/GALON"
        ],
        [
         "1",
         "2024-01-01 00:00:00",
         "30.44"
        ],
        [
         "2",
         "2024-01-02 00:00:00",
         "30.44"
        ],
        [
         "3",
         "2024-01-03 00:00:00",
         "30.47"
        ],
        [
         "4",
         "2024-01-04 00:00:00",
         "30.47"
        ],
        [
         "5",
         "2024-01-05 00:00:00",
         "30.47"
        ],
        [
         "6",
         "2024-01-06 00:00:00",
         "30.47"
        ],
        [
         "7",
         "2024-01-07 00:00:00",
         "30.47"
        ],
        [
         "8",
         "2024-01-08 00:00:00",
         "30.47"
        ],
        [
         "9",
         "2024-01-09 00:00:00",
         "30.47"
        ],
        [
         "10",
         "2024-01-10 00:00:00",
         "30.47"
        ],
        [
         "11",
         "2024-01-11 00:00:00",
         "30.47"
        ],
        [
         "12",
         "2024-01-12 00:00:00",
         "30.47"
        ],
        [
         "13",
         "2024-01-13 00:00:00",
         "30.47"
        ],
        [
         "14",
         "2024-01-14 00:00:00",
         "30.47"
        ],
        [
         "15",
         "2024-01-15 00:00:00",
         "30.29"
        ],
        [
         "16",
         "2024-01-16 00:00:00",
         "30.29"
        ],
        [
         "17",
         "2024-01-17 00:00:00",
         "30.29"
        ],
        [
         "18",
         "2024-01-18 00:00:00",
         "30.29"
        ],
        [
         "19",
         "2024-01-19 00:00:00",
         "30.29"
        ],
        [
         "20",
         "2024-01-20 00:00:00",
         "30.29"
        ],
        [
         "21",
         "2024-01-21 00:00:00",
         "30.29"
        ],
        [
         "22",
         "2024-01-22 00:00:00",
         "30.9"
        ],
        [
         "23",
         "2024-01-23 00:00:00",
         "30.9"
        ],
        [
         "24",
         "2024-01-24 00:00:00",
         "30.9"
        ],
        [
         "25",
         "2024-01-25 00:00:00",
         "30.9"
        ],
        [
         "26",
         "2024-01-26 00:00:00",
         "30.9"
        ],
        [
         "27",
         "2024-01-27 00:00:00",
         "30.9"
        ],
        [
         "28",
         "2024-01-28 00:00:00",
         "30.9"
        ],
        [
         "29",
         "2024-01-29 00:00:00",
         "30.97"
        ],
        [
         "30",
         "2024-01-30 00:00:00",
         "30.97"
        ],
        [
         "31",
         "2024-01-31 00:00:00",
         "30.97"
        ],
        [
         "32",
         "2024-02-01 00:00:00",
         "30.97"
        ],
        [
         "33",
         "2024-02-02 00:00:00",
         "30.97"
        ],
        [
         "34",
         "2024-02-03 00:00:00",
         "30.97"
        ],
        [
         "35",
         "2024-02-04 00:00:00",
         "30.97"
        ],
        [
         "36",
         "2024-02-05 00:00:00",
         "31.46"
        ],
        [
         "37",
         "2024-02-06 00:00:00",
         "31.46"
        ],
        [
         "38",
         "2024-02-07 00:00:00",
         "31.46"
        ],
        [
         "39",
         "2024-02-08 00:00:00",
         "31.46"
        ],
        [
         "40",
         "2024-02-09 00:00:00",
         "31.46"
        ],
        [
         "41",
         "2024-02-10 00:00:00",
         "31.46"
        ],
        [
         "42",
         "2024-02-11 00:00:00",
         "31.46"
        ],
        [
         "43",
         "2024-02-12 00:00:00",
         "31.47"
        ],
        [
         "44",
         "2024-02-13 00:00:00",
         "31.47"
        ],
        [
         "45",
         "2024-02-14 00:00:00",
         "31.47"
        ],
        [
         "46",
         "2024-02-15 00:00:00",
         "31.47"
        ],
        [
         "47",
         "2024-02-16 00:00:00",
         "31.47"
        ],
        [
         "48",
         "2024-02-17 00:00:00",
         "31.47"
        ],
        [
         "49",
         "2024-02-18 00:00:00",
         "31.47"
        ]
       ],
       "shape": {
        "columns": 2,
        "rows": 369
       }
      },
      "text/html": [
       "<div>\n",
       "<style scoped>\n",
       "    .dataframe tbody tr th:only-of-type {\n",
       "        vertical-align: middle;\n",
       "    }\n",
       "\n",
       "    .dataframe tbody tr th {\n",
       "        vertical-align: top;\n",
       "    }\n",
       "\n",
       "    .dataframe thead th {\n",
       "        text-align: right;\n",
       "    }\n",
       "</style>\n",
       "<table border=\"1\" class=\"dataframe\">\n",
       "  <thead>\n",
       "    <tr style=\"text-align: right;\">\n",
       "      <th></th>\n",
       "      <th>FECHA</th>\n",
       "      <th>Superior</th>\n",
       "    </tr>\n",
       "  </thead>\n",
       "  <tbody>\n",
       "    <tr>\n",
       "      <th>0</th>\n",
       "      <td>NaN</td>\n",
       "      <td>GTQ/GALON</td>\n",
       "    </tr>\n",
       "    <tr>\n",
       "      <th>1</th>\n",
       "      <td>2024-01-01 00:00:00</td>\n",
       "      <td>30.44</td>\n",
       "    </tr>\n",
       "    <tr>\n",
       "      <th>2</th>\n",
       "      <td>2024-01-02 00:00:00</td>\n",
       "      <td>30.44</td>\n",
       "    </tr>\n",
       "    <tr>\n",
       "      <th>3</th>\n",
       "      <td>2024-01-03 00:00:00</td>\n",
       "      <td>30.47</td>\n",
       "    </tr>\n",
       "    <tr>\n",
       "      <th>4</th>\n",
       "      <td>2024-01-04 00:00:00</td>\n",
       "      <td>30.47</td>\n",
       "    </tr>\n",
       "    <tr>\n",
       "      <th>...</th>\n",
       "      <td>...</td>\n",
       "      <td>...</td>\n",
       "    </tr>\n",
       "    <tr>\n",
       "      <th>364</th>\n",
       "      <td>2024-12-29 00:00:00</td>\n",
       "      <td>28.99</td>\n",
       "    </tr>\n",
       "    <tr>\n",
       "      <th>365</th>\n",
       "      <td>2024-12-30 00:00:00</td>\n",
       "      <td>28.95</td>\n",
       "    </tr>\n",
       "    <tr>\n",
       "      <th>366</th>\n",
       "      <td>2024-12-31 00:00:00</td>\n",
       "      <td>28.95</td>\n",
       "    </tr>\n",
       "    <tr>\n",
       "      <th>367</th>\n",
       "      <td>Fuente precios nacionales: Sección Comercializ...</td>\n",
       "      <td>NaN</td>\n",
       "    </tr>\n",
       "    <tr>\n",
       "      <th>368</th>\n",
       "      <td>Fuente tipo de cambio: Banco de Guatemala.</td>\n",
       "      <td>NaN</td>\n",
       "    </tr>\n",
       "  </tbody>\n",
       "</table>\n",
       "<p>369 rows × 2 columns</p>\n",
       "</div>"
      ],
      "text/plain": [
       "                                                 FECHA   Superior\n",
       "0                                                  NaN  GTQ/GALON\n",
       "1                                  2024-01-01 00:00:00      30.44\n",
       "2                                  2024-01-02 00:00:00      30.44\n",
       "3                                  2024-01-03 00:00:00      30.47\n",
       "4                                  2024-01-04 00:00:00      30.47\n",
       "..                                                 ...        ...\n",
       "364                                2024-12-29 00:00:00      28.99\n",
       "365                                2024-12-30 00:00:00      28.95\n",
       "366                                2024-12-31 00:00:00      28.95\n",
       "367  Fuente precios nacionales: Sección Comercializ...        NaN\n",
       "368         Fuente tipo de cambio: Banco de Guatemala.        NaN\n",
       "\n",
       "[369 rows x 2 columns]"
      ]
     },
     "execution_count": 12,
     "metadata": {},
     "output_type": "execute_result"
    }
   ],
   "source": [
    "resultados[\"2024\"]"
   ]
  }
 ],
 "metadata": {
  "kernelspec": {
   "display_name": "Python 3",
   "language": "python",
   "name": "python3"
  },
  "language_info": {
   "codemirror_mode": {
    "name": "ipython",
    "version": 3
   },
   "file_extension": ".py",
   "mimetype": "text/x-python",
   "name": "python",
   "nbconvert_exporter": "python",
   "pygments_lexer": "ipython3",
   "version": "3.11.9"
  }
 },
 "nbformat": 4,
 "nbformat_minor": 5
}
