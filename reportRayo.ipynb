{
 "cells": [
  {
   "cell_type": "markdown",
   "id": "929f73aa",
   "metadata": {},
   "source": [
    "# Laboratorio 1\n",
    "\n",
    "- Daniel Alfredo Rayo Roldan\n",
    "- Gerardo Pineda Riveiro\n",
    "\n",
    "## Repo:\n",
    "https://github.com/DanielRasho/DS-Lab1.git"
   ]
  },
  {
   "cell_type": "code",
   "execution_count": 877,
   "id": "80ad1e19",
   "metadata": {},
   "outputs": [],
   "source": [
    "# pip install openpyxl instalar esto\n",
    "import rdata\n",
    "import pandas as pd\n",
    "import matplotlib.pyplot as plt\n",
    "import numpy as np\n",
    "\n",
    "import statsmodels.tsa as tsa\n",
    "import statsmodels as sm\n",
    "from datetime import datetime\n",
    "from statsmodels.tsa.stattools import adfuller, kpss\n",
    "from statsmodels.tsa.seasonal import seasonal_decompose\n",
    "from statsmodels.tsa.stattools import acf, pacf\n",
    "from statsmodels.tsa.arima.model import ARIMA\n",
    "from statsmodels.tsa.statespace.sarimax import SARIMAX\n",
    "from scipy.stats import shapiro\n",
    "from scipy.stats import boxcox\n",
    "from statsmodels.graphics.tsaplots import plot_acf, plot_pacf\n",
    "from varianceTest import Heteroskedasticity"
   ]
  },
  {
   "cell_type": "markdown",
   "id": "86d57060",
   "metadata": {},
   "source": [
    "## Cargado de datos"
   ]
  },
  {
   "cell_type": "code",
   "execution_count": 878,
   "id": "2eca01b8",
   "metadata": {},
   "outputs": [],
   "source": [
    "xls = pd.read_excel(\"./data/preciosLimpio.xlsx\", sheet_name=None)\n",
    "\n",
    "resultados = {}\n",
    "\n",
    "for nombre_hoja, df in xls.items():\n",
    "    hoja_df = pd.read_excel(\"./data/preciosLimpio.xlsx\", sheet_name=nombre_hoja, header=7, usecols=\"A,C,D,E,F,G,H\")\n",
    "    resultados[nombre_hoja] = hoja_df"
   ]
  },
  {
   "cell_type": "code",
   "execution_count": 879,
   "id": "00f91b06",
   "metadata": {},
   "outputs": [],
   "source": [
    "for nombre_hoja in resultados:\n",
    "    df = resultados[nombre_hoja]\n",
    "    resultados[nombre_hoja] = df.iloc[1:].reset_index(drop=True)"
   ]
  },
  {
   "cell_type": "code",
   "execution_count": 880,
   "id": "7b0f2e19",
   "metadata": {},
   "outputs": [
    {
     "data": {
      "application/vnd.microsoft.datawrangler.viewer.v0+json": {
       "columns": [
        {
         "name": "index",
         "rawType": "int64",
         "type": "integer"
        },
        {
         "name": "FECHA",
         "rawType": "datetime64[ns]",
         "type": "datetime"
        },
        {
         "name": "Superior",
         "rawType": "object",
         "type": "unknown"
        },
        {
         "name": "Regular",
         "rawType": "object",
         "type": "unknown"
        },
        {
         "name": "Diesel",
         "rawType": "object",
         "type": "unknown"
        },
        {
         "name": "Bunker",
         "rawType": "object",
         "type": "unknown"
        },
        {
         "name": "Glp Cilindro 25Lbs.",
         "rawType": "object",
         "type": "unknown"
        },
        {
         "name": "Unnamed: 7",
         "rawType": "object",
         "type": "unknown"
        }
       ],
       "ref": "c14b606b-2623-4983-a480-45d236677002",
       "rows": [
        [
         "0",
         "2024-01-01 00:00:00",
         "30.44",
         "28.95",
         "29.47",
         "18.99",
         "115",
         "4.6"
        ],
        [
         "1",
         "2024-01-02 00:00:00",
         "30.44",
         "28.95",
         "29.47",
         "18.99",
         "115",
         "4.6"
        ],
        [
         "2",
         "2024-01-03 00:00:00",
         "30.47",
         "28.97",
         "29.48",
         "18.99",
         "115",
         "4.6"
        ],
        [
         "3",
         "2024-01-04 00:00:00",
         "30.47",
         "28.97",
         "29.48",
         "18.99",
         "115",
         "4.6"
        ],
        [
         "4",
         "2024-01-05 00:00:00",
         "30.47",
         "28.97",
         "29.48",
         "18.99",
         "115",
         "4.6"
        ],
        [
         "5",
         "2024-01-06 00:00:00",
         "30.47",
         "28.97",
         "29.48",
         "18.99",
         "115",
         "4.6"
        ],
        [
         "6",
         "2024-01-07 00:00:00",
         "30.47",
         "28.97",
         "29.48",
         "18.99",
         "115",
         "4.6"
        ],
        [
         "7",
         "2024-01-08 00:00:00",
         "30.47",
         "28.97",
         "29.48",
         "18.99",
         "115",
         "4.6"
        ],
        [
         "8",
         "2024-01-09 00:00:00",
         "30.47",
         "28.97",
         "29.48",
         "18.99",
         "115",
         "4.6"
        ],
        [
         "9",
         "2024-01-10 00:00:00",
         "30.47",
         "28.97",
         "29.48",
         "18.99",
         "115",
         "4.6"
        ],
        [
         "10",
         "2024-01-11 00:00:00",
         "30.47",
         "28.97",
         "29.48",
         "18.99",
         "115",
         "4.6"
        ],
        [
         "11",
         "2024-01-12 00:00:00",
         "30.47",
         "28.97",
         "29.48",
         "18.99",
         "115",
         "4.6"
        ],
        [
         "12",
         "2024-01-13 00:00:00",
         "30.47",
         "28.97",
         "29.48",
         "18.99",
         "115",
         "4.6"
        ],
        [
         "13",
         "2024-01-14 00:00:00",
         "30.47",
         "28.97",
         "29.48",
         "18.99",
         "115",
         "4.6"
        ],
        [
         "14",
         "2024-01-15 00:00:00",
         "30.29",
         "28.79",
         "28.55",
         "18.49",
         "115",
         "4.6"
        ],
        [
         "15",
         "2024-01-16 00:00:00",
         "30.29",
         "28.79",
         "28.55",
         "18.49",
         "115",
         "4.6"
        ],
        [
         "16",
         "2024-01-17 00:00:00",
         "30.29",
         "28.79",
         "28.55",
         "18.49",
         "115",
         "4.6"
        ],
        [
         "17",
         "2024-01-18 00:00:00",
         "30.29",
         "28.79",
         "28.55",
         "18.49",
         "115",
         "4.6"
        ],
        [
         "18",
         "2024-01-19 00:00:00",
         "30.29",
         "28.79",
         "28.55",
         "18.49",
         "115",
         "4.6"
        ],
        [
         "19",
         "2024-01-20 00:00:00",
         "30.29",
         "28.79",
         "28.55",
         "18.49",
         "115",
         "4.6"
        ],
        [
         "20",
         "2024-01-21 00:00:00",
         "30.29",
         "28.79",
         "28.55",
         "18.49",
         "115",
         "4.6"
        ],
        [
         "21",
         "2024-01-22 00:00:00",
         "30.9",
         "29.39",
         "29.11",
         "17.99",
         "115",
         "4.6"
        ],
        [
         "22",
         "2024-01-23 00:00:00",
         "30.9",
         "29.39",
         "29.11",
         "17.99",
         "115",
         "4.6"
        ],
        [
         "23",
         "2024-01-24 00:00:00",
         "30.9",
         "29.39",
         "29.11",
         "17.99",
         "115",
         "4.6"
        ],
        [
         "24",
         "2024-01-25 00:00:00",
         "30.9",
         "29.39",
         "29.11",
         "17.99",
         "115",
         "4.6"
        ],
        [
         "25",
         "2024-01-26 00:00:00",
         "30.9",
         "29.39",
         "29.11",
         "17.99",
         "115",
         "4.6"
        ],
        [
         "26",
         "2024-01-27 00:00:00",
         "30.9",
         "29.39",
         "29.11",
         "17.99",
         "115",
         "4.6"
        ],
        [
         "27",
         "2024-01-28 00:00:00",
         "30.9",
         "29.39",
         "29.11",
         "17.99",
         "115",
         "4.6"
        ],
        [
         "28",
         "2024-01-29 00:00:00",
         "30.97",
         "29.48",
         "29.19",
         "17.99",
         "115",
         "4.6"
        ],
        [
         "29",
         "2024-01-30 00:00:00",
         "30.97",
         "29.48",
         "29.19",
         "17.99",
         "115",
         "4.6"
        ],
        [
         "30",
         "2024-01-31 00:00:00",
         "30.97",
         "29.48",
         "29.19",
         "17.99",
         "115",
         "4.6"
        ],
        [
         "31",
         "2024-02-01 00:00:00",
         "30.97",
         "29.48",
         "29.19",
         "17.99",
         "115",
         "4.6"
        ],
        [
         "32",
         "2024-02-02 00:00:00",
         "30.97",
         "29.48",
         "29.19",
         "17.99",
         "115",
         "4.6"
        ],
        [
         "33",
         "2024-02-03 00:00:00",
         "30.97",
         "29.48",
         "29.19",
         "17.99",
         "115",
         "4.6"
        ],
        [
         "34",
         "2024-02-04 00:00:00",
         "30.97",
         "29.48",
         "29.19",
         "17.99",
         "115",
         "4.6"
        ],
        [
         "35",
         "2024-02-05 00:00:00",
         "31.46",
         "29.96",
         "30.44",
         "17.99",
         "115",
         "4.6"
        ],
        [
         "36",
         "2024-02-06 00:00:00",
         "31.46",
         "29.96",
         "30.44",
         "17.99",
         "115",
         "4.6"
        ],
        [
         "37",
         "2024-02-07 00:00:00",
         "31.46",
         "29.96",
         "30.44",
         "17.99",
         "115",
         "4.6"
        ],
        [
         "38",
         "2024-02-08 00:00:00",
         "31.46",
         "29.96",
         "30.44",
         "17.99",
         "115",
         "4.6"
        ],
        [
         "39",
         "2024-02-09 00:00:00",
         "31.46",
         "29.96",
         "30.44",
         "17.99",
         "115",
         "4.6"
        ],
        [
         "40",
         "2024-02-10 00:00:00",
         "31.46",
         "29.96",
         "30.44",
         "17.99",
         "115",
         "4.6"
        ],
        [
         "41",
         "2024-02-11 00:00:00",
         "31.46",
         "29.96",
         "30.44",
         "17.99",
         "115",
         "4.6"
        ],
        [
         "42",
         "2024-02-12 00:00:00",
         "31.47",
         "29.97",
         "30.47",
         "17.49",
         "115",
         "4.6"
        ],
        [
         "43",
         "2024-02-13 00:00:00",
         "31.47",
         "29.97",
         "30.47",
         "17.49",
         "115",
         "4.6"
        ],
        [
         "44",
         "2024-02-14 00:00:00",
         "31.47",
         "29.97",
         "30.47",
         "17.49",
         "115",
         "4.6"
        ],
        [
         "45",
         "2024-02-15 00:00:00",
         "31.47",
         "29.97",
         "30.47",
         "17.49",
         "115",
         "4.6"
        ],
        [
         "46",
         "2024-02-16 00:00:00",
         "31.47",
         "29.97",
         "30.47",
         "17.49",
         "115",
         "4.6"
        ],
        [
         "47",
         "2024-02-17 00:00:00",
         "31.47",
         "29.97",
         "30.47",
         "17.49",
         "115",
         "4.6"
        ],
        [
         "48",
         "2024-02-18 00:00:00",
         "31.47",
         "29.97",
         "30.47",
         "17.49",
         "115",
         "4.6"
        ],
        [
         "49",
         "2024-02-19 00:00:00",
         "31.97",
         "30.48",
         "30.98",
         "17.69",
         "115",
         "4.6"
        ]
       ],
       "shape": {
        "columns": 7,
        "rows": 366
       }
      },
      "text/html": [
       "<div>\n",
       "<style scoped>\n",
       "    .dataframe tbody tr th:only-of-type {\n",
       "        vertical-align: middle;\n",
       "    }\n",
       "\n",
       "    .dataframe tbody tr th {\n",
       "        vertical-align: top;\n",
       "    }\n",
       "\n",
       "    .dataframe thead th {\n",
       "        text-align: right;\n",
       "    }\n",
       "</style>\n",
       "<table border=\"1\" class=\"dataframe\">\n",
       "  <thead>\n",
       "    <tr style=\"text-align: right;\">\n",
       "      <th></th>\n",
       "      <th>FECHA</th>\n",
       "      <th>Superior</th>\n",
       "      <th>Regular</th>\n",
       "      <th>Diesel</th>\n",
       "      <th>Bunker</th>\n",
       "      <th>Glp Cilindro 25Lbs.</th>\n",
       "      <th>Unnamed: 7</th>\n",
       "    </tr>\n",
       "  </thead>\n",
       "  <tbody>\n",
       "    <tr>\n",
       "      <th>0</th>\n",
       "      <td>2024-01-01</td>\n",
       "      <td>30.44</td>\n",
       "      <td>28.95</td>\n",
       "      <td>29.47</td>\n",
       "      <td>18.99</td>\n",
       "      <td>115</td>\n",
       "      <td>4.6</td>\n",
       "    </tr>\n",
       "    <tr>\n",
       "      <th>1</th>\n",
       "      <td>2024-01-02</td>\n",
       "      <td>30.44</td>\n",
       "      <td>28.95</td>\n",
       "      <td>29.47</td>\n",
       "      <td>18.99</td>\n",
       "      <td>115</td>\n",
       "      <td>4.6</td>\n",
       "    </tr>\n",
       "    <tr>\n",
       "      <th>2</th>\n",
       "      <td>2024-01-03</td>\n",
       "      <td>30.47</td>\n",
       "      <td>28.97</td>\n",
       "      <td>29.48</td>\n",
       "      <td>18.99</td>\n",
       "      <td>115</td>\n",
       "      <td>4.6</td>\n",
       "    </tr>\n",
       "    <tr>\n",
       "      <th>3</th>\n",
       "      <td>2024-01-04</td>\n",
       "      <td>30.47</td>\n",
       "      <td>28.97</td>\n",
       "      <td>29.48</td>\n",
       "      <td>18.99</td>\n",
       "      <td>115</td>\n",
       "      <td>4.6</td>\n",
       "    </tr>\n",
       "    <tr>\n",
       "      <th>4</th>\n",
       "      <td>2024-01-05</td>\n",
       "      <td>30.47</td>\n",
       "      <td>28.97</td>\n",
       "      <td>29.48</td>\n",
       "      <td>18.99</td>\n",
       "      <td>115</td>\n",
       "      <td>4.6</td>\n",
       "    </tr>\n",
       "    <tr>\n",
       "      <th>...</th>\n",
       "      <td>...</td>\n",
       "      <td>...</td>\n",
       "      <td>...</td>\n",
       "      <td>...</td>\n",
       "      <td>...</td>\n",
       "      <td>...</td>\n",
       "      <td>...</td>\n",
       "    </tr>\n",
       "    <tr>\n",
       "      <th>361</th>\n",
       "      <td>2024-12-27</td>\n",
       "      <td>28.99</td>\n",
       "      <td>27.49</td>\n",
       "      <td>25.51</td>\n",
       "      <td>17.94</td>\n",
       "      <td>110</td>\n",
       "      <td>4.4</td>\n",
       "    </tr>\n",
       "    <tr>\n",
       "      <th>362</th>\n",
       "      <td>2024-12-28</td>\n",
       "      <td>28.99</td>\n",
       "      <td>27.49</td>\n",
       "      <td>25.51</td>\n",
       "      <td>17.94</td>\n",
       "      <td>110</td>\n",
       "      <td>4.4</td>\n",
       "    </tr>\n",
       "    <tr>\n",
       "      <th>363</th>\n",
       "      <td>2024-12-29</td>\n",
       "      <td>28.99</td>\n",
       "      <td>27.49</td>\n",
       "      <td>25.51</td>\n",
       "      <td>17.94</td>\n",
       "      <td>110</td>\n",
       "      <td>4.4</td>\n",
       "    </tr>\n",
       "    <tr>\n",
       "      <th>364</th>\n",
       "      <td>2024-12-30</td>\n",
       "      <td>28.95</td>\n",
       "      <td>27.45</td>\n",
       "      <td>25.47</td>\n",
       "      <td>18.74</td>\n",
       "      <td>110</td>\n",
       "      <td>4.4</td>\n",
       "    </tr>\n",
       "    <tr>\n",
       "      <th>365</th>\n",
       "      <td>2024-12-31</td>\n",
       "      <td>28.95</td>\n",
       "      <td>27.45</td>\n",
       "      <td>25.47</td>\n",
       "      <td>18.74</td>\n",
       "      <td>110</td>\n",
       "      <td>4.4</td>\n",
       "    </tr>\n",
       "  </tbody>\n",
       "</table>\n",
       "<p>366 rows × 7 columns</p>\n",
       "</div>"
      ],
      "text/plain": [
       "         FECHA Superior Regular Diesel Bunker Glp Cilindro 25Lbs. Unnamed: 7\n",
       "0   2024-01-01    30.44   28.95  29.47  18.99                 115        4.6\n",
       "1   2024-01-02    30.44   28.95  29.47  18.99                 115        4.6\n",
       "2   2024-01-03    30.47   28.97  29.48  18.99                 115        4.6\n",
       "3   2024-01-04    30.47   28.97  29.48  18.99                 115        4.6\n",
       "4   2024-01-05    30.47   28.97  29.48  18.99                 115        4.6\n",
       "..         ...      ...     ...    ...    ...                 ...        ...\n",
       "361 2024-12-27    28.99   27.49  25.51  17.94                 110        4.4\n",
       "362 2024-12-28    28.99   27.49  25.51  17.94                 110        4.4\n",
       "363 2024-12-29    28.99   27.49  25.51  17.94                 110        4.4\n",
       "364 2024-12-30    28.95   27.45  25.47  18.74                 110        4.4\n",
       "365 2024-12-31    28.95   27.45  25.47  18.74                 110        4.4\n",
       "\n",
       "[366 rows x 7 columns]"
      ]
     },
     "execution_count": 880,
     "metadata": {},
     "output_type": "execute_result"
    }
   ],
   "source": [
    "resultados[\"2024\"]"
   ]
  },
  {
   "cell_type": "code",
   "execution_count": 881,
   "id": "a5f61d12",
   "metadata": {},
   "outputs": [],
   "source": [
    "df_final = pd.DataFrame()\n",
    "\n",
    "for nombre_hoja, df in resultados.items():\n",
    "    df[\"Año\"] = nombre_hoja\n",
    "    df_final = pd.concat([df_final, df], ignore_index=True)"
   ]
  },
  {
   "cell_type": "code",
   "execution_count": 882,
   "id": "0df10617",
   "metadata": {},
   "outputs": [],
   "source": [
    "df_final.drop(columns=[\"Bunker\"], inplace=True)\n",
    "df_final.set_index(\"FECHA\", inplace=True)\n",
    "df_final.sort_index(ascending=True, inplace=True)"
   ]
  },
  {
   "cell_type": "code",
   "execution_count": 883,
   "id": "f6b5f979",
   "metadata": {},
   "outputs": [
    {
     "data": {
      "application/vnd.microsoft.datawrangler.viewer.v0+json": {
       "columns": [
        {
         "name": "FECHA",
         "rawType": "datetime64[ns]",
         "type": "datetime"
        },
        {
         "name": "Superior",
         "rawType": "float64",
         "type": "float"
        },
        {
         "name": "Regular",
         "rawType": "float64",
         "type": "float"
        },
        {
         "name": "Diesel",
         "rawType": "float64",
         "type": "float"
        },
        {
         "name": "Gas 25Lbs",
         "rawType": "float64",
         "type": "float"
        },
        {
         "name": "Gas 1Lb",
         "rawType": "float64",
         "type": "float"
        },
        {
         "name": "Año",
         "rawType": "int64",
         "type": "integer"
        },
        {
         "name": "Month",
         "rawType": "int32",
         "type": "integer"
        }
       ],
       "ref": "80f05133-42a7-48f9-a2c6-47b2fc9bd778",
       "rows": [
        [
         "2021-01-01 00:00:00",
         "21.91",
         "21.11",
         "17.61",
         "99.0",
         "3.96",
         "2021",
         "1"
        ],
        [
         "2021-01-02 00:00:00",
         "21.91",
         "21.11",
         "17.61",
         "99.0",
         "3.96",
         "2021",
         "1"
        ],
        [
         "2021-01-03 00:00:00",
         "21.91",
         "21.11",
         "17.61",
         "99.0",
         "3.96",
         "2021",
         "1"
        ],
        [
         "2021-01-04 00:00:00",
         "21.91",
         "21.11",
         "17.61",
         "99.0",
         "3.96",
         "2021",
         "1"
        ],
        [
         "2021-01-05 00:00:00",
         "21.91",
         "21.11",
         "17.61",
         "99.0",
         "3.96",
         "2021",
         "1"
        ],
        [
         "2021-01-06 00:00:00",
         "21.91",
         "21.11",
         "17.61",
         "99.0",
         "3.96",
         "2021",
         "1"
        ],
        [
         "2021-01-07 00:00:00",
         "21.91",
         "21.11",
         "17.61",
         "99.0",
         "3.96",
         "2021",
         "1"
        ],
        [
         "2021-01-08 00:00:00",
         "21.91",
         "21.11",
         "17.61",
         "99.0",
         "3.96",
         "2021",
         "1"
        ],
        [
         "2021-01-09 00:00:00",
         "21.91",
         "21.11",
         "17.61",
         "99.0",
         "3.96",
         "2021",
         "1"
        ],
        [
         "2021-01-10 00:00:00",
         "21.91",
         "21.11",
         "17.61",
         "99.0",
         "3.96",
         "2021",
         "1"
        ],
        [
         "2021-01-11 00:00:00",
         "22.39",
         "21.59",
         "17.69",
         "99.0",
         "3.96",
         "2021",
         "1"
        ],
        [
         "2021-01-12 00:00:00",
         "22.39",
         "21.59",
         "17.69",
         "99.0",
         "3.96",
         "2021",
         "1"
        ],
        [
         "2021-01-13 00:00:00",
         "22.39",
         "21.59",
         "17.69",
         "101.67",
         "4.07",
         "2021",
         "1"
        ],
        [
         "2021-01-14 00:00:00",
         "22.39",
         "21.59",
         "17.69",
         "101.67",
         "4.07",
         "2021",
         "1"
        ],
        [
         "2021-01-15 00:00:00",
         "22.39",
         "21.59",
         "17.69",
         "101.67",
         "4.07",
         "2021",
         "1"
        ],
        [
         "2021-01-16 00:00:00",
         "22.39",
         "21.59",
         "17.69",
         "107.0",
         "4.28",
         "2021",
         "1"
        ],
        [
         "2021-01-17 00:00:00",
         "22.39",
         "21.59",
         "17.69",
         "107.0",
         "4.28",
         "2021",
         "1"
        ],
        [
         "2021-01-18 00:00:00",
         "23.21",
         "22.41",
         "18.3",
         "107.0",
         "4.28",
         "2021",
         "1"
        ],
        [
         "2021-01-19 00:00:00",
         "23.21",
         "22.41",
         "18.3",
         "107.0",
         "4.28",
         "2021",
         "1"
        ],
        [
         "2021-01-20 00:00:00",
         "23.21",
         "22.41",
         "18.3",
         "110.0",
         "4.4",
         "2021",
         "1"
        ],
        [
         "2021-01-21 00:00:00",
         "23.21",
         "22.41",
         "18.3",
         "110.0",
         "4.4",
         "2021",
         "1"
        ],
        [
         "2021-01-22 00:00:00",
         "23.21",
         "22.41",
         "18.3",
         "110.0",
         "4.4",
         "2021",
         "1"
        ],
        [
         "2021-01-23 00:00:00",
         "23.21",
         "22.41",
         "18.3",
         "116.0",
         "4.64",
         "2021",
         "1"
        ],
        [
         "2021-01-24 00:00:00",
         "23.21",
         "22.41",
         "18.3",
         "116.0",
         "4.64",
         "2021",
         "1"
        ],
        [
         "2021-01-25 00:00:00",
         "23.44",
         "22.64",
         "18.47",
         "116.0",
         "4.64",
         "2021",
         "1"
        ],
        [
         "2021-01-26 00:00:00",
         "23.44",
         "22.64",
         "18.47",
         "116.0",
         "4.64",
         "2021",
         "1"
        ],
        [
         "2021-01-27 00:00:00",
         "23.44",
         "22.64",
         "18.47",
         "116.0",
         "4.64",
         "2021",
         "1"
        ],
        [
         "2021-01-28 00:00:00",
         "23.44",
         "22.64",
         "18.47",
         "116.0",
         "4.64",
         "2021",
         "1"
        ],
        [
         "2021-01-29 00:00:00",
         "23.44",
         "22.64",
         "18.47",
         "116.0",
         "4.64",
         "2021",
         "1"
        ],
        [
         "2021-01-30 00:00:00",
         "23.44",
         "22.64",
         "18.47",
         "116.0",
         "4.64",
         "2021",
         "1"
        ],
        [
         "2021-01-31 00:00:00",
         "23.44",
         "22.64",
         "18.47",
         "116.0",
         "4.64",
         "2021",
         "1"
        ],
        [
         "2021-02-01 00:00:00",
         "23.57",
         "22.77",
         "18.57",
         "116.0",
         "4.64",
         "2021",
         "2"
        ],
        [
         "2021-02-02 00:00:00",
         "23.57",
         "22.77",
         "18.57",
         "116.0",
         "4.64",
         "2021",
         "2"
        ],
        [
         "2021-02-03 00:00:00",
         "23.57",
         "22.77",
         "18.57",
         "116.0",
         "4.64",
         "2021",
         "2"
        ],
        [
         "2021-02-04 00:00:00",
         "23.57",
         "22.77",
         "18.57",
         "116.0",
         "4.64",
         "2021",
         "2"
        ],
        [
         "2021-02-05 00:00:00",
         "23.57",
         "22.77",
         "18.57",
         "116.0",
         "4.64",
         "2021",
         "2"
        ],
        [
         "2021-02-06 00:00:00",
         "23.57",
         "22.77",
         "18.57",
         "116.0",
         "4.64",
         "2021",
         "2"
        ],
        [
         "2021-02-07 00:00:00",
         "23.57",
         "22.77",
         "18.57",
         "116.0",
         "4.64",
         "2021",
         "2"
        ],
        [
         "2021-02-08 00:00:00",
         "23.98",
         "23.18",
         "18.98",
         "116.0",
         "4.64",
         "2021",
         "2"
        ],
        [
         "2021-02-09 00:00:00",
         "23.98",
         "23.18",
         "18.98",
         "116.0",
         "4.64",
         "2021",
         "2"
        ],
        [
         "2021-02-10 00:00:00",
         "23.98",
         "23.18",
         "18.98",
         "116.0",
         "4.64",
         "2021",
         "2"
        ],
        [
         "2021-02-11 00:00:00",
         "23.98",
         "23.18",
         "18.98",
         "116.0",
         "4.64",
         "2021",
         "2"
        ],
        [
         "2021-02-12 00:00:00",
         "23.98",
         "23.18",
         "18.98",
         "116.0",
         "4.64",
         "2021",
         "2"
        ],
        [
         "2021-02-13 00:00:00",
         "23.98",
         "23.18",
         "18.98",
         "116.0",
         "4.64",
         "2021",
         "2"
        ],
        [
         "2021-02-14 00:00:00",
         "23.98",
         "23.18",
         "18.98",
         "116.0",
         "4.64",
         "2021",
         "2"
        ],
        [
         "2021-02-15 00:00:00",
         "24.39",
         "23.59",
         "19.79",
         "116.0",
         "4.64",
         "2021",
         "2"
        ],
        [
         "2021-02-16 00:00:00",
         "24.39",
         "23.59",
         "19.79",
         "116.0",
         "4.64",
         "2021",
         "2"
        ],
        [
         "2021-02-17 00:00:00",
         "24.39",
         "23.59",
         "19.79",
         "116.0",
         "4.64",
         "2021",
         "2"
        ],
        [
         "2021-02-18 00:00:00",
         "24.39",
         "23.59",
         "19.79",
         "116.0",
         "4.64",
         "2021",
         "2"
        ],
        [
         "2021-02-19 00:00:00",
         "24.39",
         "23.59",
         "19.79",
         "116.0",
         "4.64",
         "2021",
         "2"
        ]
       ],
       "shape": {
        "columns": 7,
        "rows": 1655
       }
      },
      "text/html": [
       "<div>\n",
       "<style scoped>\n",
       "    .dataframe tbody tr th:only-of-type {\n",
       "        vertical-align: middle;\n",
       "    }\n",
       "\n",
       "    .dataframe tbody tr th {\n",
       "        vertical-align: top;\n",
       "    }\n",
       "\n",
       "    .dataframe thead th {\n",
       "        text-align: right;\n",
       "    }\n",
       "</style>\n",
       "<table border=\"1\" class=\"dataframe\">\n",
       "  <thead>\n",
       "    <tr style=\"text-align: right;\">\n",
       "      <th></th>\n",
       "      <th>Superior</th>\n",
       "      <th>Regular</th>\n",
       "      <th>Diesel</th>\n",
       "      <th>Gas 25Lbs</th>\n",
       "      <th>Gas 1Lb</th>\n",
       "      <th>Año</th>\n",
       "      <th>Month</th>\n",
       "    </tr>\n",
       "    <tr>\n",
       "      <th>FECHA</th>\n",
       "      <th></th>\n",
       "      <th></th>\n",
       "      <th></th>\n",
       "      <th></th>\n",
       "      <th></th>\n",
       "      <th></th>\n",
       "      <th></th>\n",
       "    </tr>\n",
       "  </thead>\n",
       "  <tbody>\n",
       "    <tr>\n",
       "      <th>2021-01-01</th>\n",
       "      <td>21.91</td>\n",
       "      <td>21.11</td>\n",
       "      <td>17.61</td>\n",
       "      <td>99.0</td>\n",
       "      <td>3.96</td>\n",
       "      <td>2021</td>\n",
       "      <td>1</td>\n",
       "    </tr>\n",
       "    <tr>\n",
       "      <th>2021-01-02</th>\n",
       "      <td>21.91</td>\n",
       "      <td>21.11</td>\n",
       "      <td>17.61</td>\n",
       "      <td>99.0</td>\n",
       "      <td>3.96</td>\n",
       "      <td>2021</td>\n",
       "      <td>1</td>\n",
       "    </tr>\n",
       "    <tr>\n",
       "      <th>2021-01-03</th>\n",
       "      <td>21.91</td>\n",
       "      <td>21.11</td>\n",
       "      <td>17.61</td>\n",
       "      <td>99.0</td>\n",
       "      <td>3.96</td>\n",
       "      <td>2021</td>\n",
       "      <td>1</td>\n",
       "    </tr>\n",
       "    <tr>\n",
       "      <th>2021-01-04</th>\n",
       "      <td>21.91</td>\n",
       "      <td>21.11</td>\n",
       "      <td>17.61</td>\n",
       "      <td>99.0</td>\n",
       "      <td>3.96</td>\n",
       "      <td>2021</td>\n",
       "      <td>1</td>\n",
       "    </tr>\n",
       "    <tr>\n",
       "      <th>2021-01-05</th>\n",
       "      <td>21.91</td>\n",
       "      <td>21.11</td>\n",
       "      <td>17.61</td>\n",
       "      <td>99.0</td>\n",
       "      <td>3.96</td>\n",
       "      <td>2021</td>\n",
       "      <td>1</td>\n",
       "    </tr>\n",
       "    <tr>\n",
       "      <th>...</th>\n",
       "      <td>...</td>\n",
       "      <td>...</td>\n",
       "      <td>...</td>\n",
       "      <td>...</td>\n",
       "      <td>...</td>\n",
       "      <td>...</td>\n",
       "      <td>...</td>\n",
       "    </tr>\n",
       "    <tr>\n",
       "      <th>2025-07-09</th>\n",
       "      <td>30.98</td>\n",
       "      <td>29.49</td>\n",
       "      <td>27.00</td>\n",
       "      <td>120.0</td>\n",
       "      <td>4.80</td>\n",
       "      <td>2025</td>\n",
       "      <td>7</td>\n",
       "    </tr>\n",
       "    <tr>\n",
       "      <th>2025-07-10</th>\n",
       "      <td>30.98</td>\n",
       "      <td>29.49</td>\n",
       "      <td>27.00</td>\n",
       "      <td>120.0</td>\n",
       "      <td>4.80</td>\n",
       "      <td>2025</td>\n",
       "      <td>7</td>\n",
       "    </tr>\n",
       "    <tr>\n",
       "      <th>2025-07-11</th>\n",
       "      <td>30.98</td>\n",
       "      <td>29.49</td>\n",
       "      <td>27.00</td>\n",
       "      <td>120.0</td>\n",
       "      <td>4.80</td>\n",
       "      <td>2025</td>\n",
       "      <td>7</td>\n",
       "    </tr>\n",
       "    <tr>\n",
       "      <th>2025-07-12</th>\n",
       "      <td>30.98</td>\n",
       "      <td>29.49</td>\n",
       "      <td>27.00</td>\n",
       "      <td>120.0</td>\n",
       "      <td>4.80</td>\n",
       "      <td>2025</td>\n",
       "      <td>7</td>\n",
       "    </tr>\n",
       "    <tr>\n",
       "      <th>2025-07-13</th>\n",
       "      <td>30.98</td>\n",
       "      <td>29.49</td>\n",
       "      <td>27.00</td>\n",
       "      <td>120.0</td>\n",
       "      <td>4.80</td>\n",
       "      <td>2025</td>\n",
       "      <td>7</td>\n",
       "    </tr>\n",
       "  </tbody>\n",
       "</table>\n",
       "<p>1655 rows × 7 columns</p>\n",
       "</div>"
      ],
      "text/plain": [
       "            Superior  Regular  Diesel  Gas 25Lbs  Gas 1Lb   Año  Month\n",
       "FECHA                                                                 \n",
       "2021-01-01     21.91    21.11   17.61       99.0     3.96  2021      1\n",
       "2021-01-02     21.91    21.11   17.61       99.0     3.96  2021      1\n",
       "2021-01-03     21.91    21.11   17.61       99.0     3.96  2021      1\n",
       "2021-01-04     21.91    21.11   17.61       99.0     3.96  2021      1\n",
       "2021-01-05     21.91    21.11   17.61       99.0     3.96  2021      1\n",
       "...              ...      ...     ...        ...      ...   ...    ...\n",
       "2025-07-09     30.98    29.49   27.00      120.0     4.80  2025      7\n",
       "2025-07-10     30.98    29.49   27.00      120.0     4.80  2025      7\n",
       "2025-07-11     30.98    29.49   27.00      120.0     4.80  2025      7\n",
       "2025-07-12     30.98    29.49   27.00      120.0     4.80  2025      7\n",
       "2025-07-13     30.98    29.49   27.00      120.0     4.80  2025      7\n",
       "\n",
       "[1655 rows x 7 columns]"
      ]
     },
     "execution_count": 883,
     "metadata": {},
     "output_type": "execute_result"
    }
   ],
   "source": [
    "df_final.rename(columns={\"Glp Cilindro 25Lbs.\" : \"Gas 25Lbs\", \"Unnamed: 7\": \"Gas 1Lb\"}, inplace=True)\n",
    "df_final[\"Month\"] = df_final.index.month\n",
    "df_final[\"Año\"] = df_final[\"Año\"].astype(int)\n",
    "df_final[\"Superior\"] = df_final[\"Superior\"].astype(float)\n",
    "df_final[\"Regular\"] = df_final[\"Regular\"].astype(float)\n",
    "df_final[\"Diesel\"] = df_final[\"Diesel\"].astype(float)\n",
    "df_final[\"Gas 25Lbs\"] = df_final[\"Gas 25Lbs\"].astype(float)\n",
    "df_final[\"Gas 1Lb\"] = df_final[\"Gas 1Lb\"].astype(float)\n",
    "df_final"
   ]
  },
  {
   "cell_type": "markdown",
   "id": "130a3840",
   "metadata": {},
   "source": [
    "## Exploración de Datos"
   ]
  },
  {
   "cell_type": "markdown",
   "id": "bd6f59e6",
   "metadata": {},
   "source": [
    "**Se decidió estudiar los precios de la Gasolina Super, Diésel y Gas Licuado entre 2021 y 2025**. Una primera inspección de los datos nos indicó que el recurso más caro son los cilindros de 25 Lbs de gas licuado (precio promedio Q121.38) seguido de lejos por la gasolina superior ( Q32.15 ) y diésel (Q28.40). "
   ]
  },
  {
   "cell_type": "code",
   "execution_count": 884,
   "id": "721046d3",
   "metadata": {},
   "outputs": [
    {
     "name": "stdout",
     "output_type": "stream",
     "text": [
      "<class 'pandas.core.frame.DataFrame'>\n",
      "DatetimeIndex: 1655 entries, 2021-01-01 to 2025-07-13\n",
      "Data columns (total 7 columns):\n",
      " #   Column     Non-Null Count  Dtype  \n",
      "---  ------     --------------  -----  \n",
      " 0   Superior   1655 non-null   float64\n",
      " 1   Regular    1655 non-null   float64\n",
      " 2   Diesel     1655 non-null   float64\n",
      " 3   Gas 25Lbs  1655 non-null   float64\n",
      " 4   Gas 1Lb    1655 non-null   float64\n",
      " 5   Año        1655 non-null   int64  \n",
      " 6   Month      1655 non-null   int32  \n",
      "dtypes: float64(5), int32(1), int64(1)\n",
      "memory usage: 97.0 KB\n",
      "None\n",
      "          Superior      Regular       Diesel    Gas 25Lbs      Gas 1Lb  \\\n",
      "count  1655.000000  1655.000000  1655.000000  1655.000000  1655.000000   \n",
      "mean     32.149142    30.841692    28.407299   121.387680     4.855571   \n",
      "std       3.816833     3.611342     4.870410     9.020728     0.360928   \n",
      "min      21.910000    21.110000    17.610000    99.000000     3.960000   \n",
      "25%      29.510000    28.280000    25.440000   115.000000     4.600000   \n",
      "50%      32.190000    30.780000    27.730000   120.000000     4.800000   \n",
      "75%      34.515000    33.280000    31.300000   122.000000     4.880000   \n",
      "max      43.240000    40.500000    41.270000   147.000000     5.880000   \n",
      "\n",
      "               Año        Month  \n",
      "count  1655.000000  1655.000000  \n",
      "mean   2022.793958     6.196979  \n",
      "std       1.323387     3.422822  \n",
      "min    2021.000000     1.000000  \n",
      "25%    2022.000000     3.000000  \n",
      "50%    2023.000000     6.000000  \n",
      "75%    2024.000000     9.000000  \n",
      "max    2025.000000    12.000000  \n",
      "Superior     0\n",
      "Regular      0\n",
      "Diesel       0\n",
      "Gas 25Lbs    0\n",
      "Gas 1Lb      0\n",
      "Año          0\n",
      "Month        0\n",
      "dtype: int64\n"
     ]
    }
   ],
   "source": [
    "# Basic info\n",
    "print(df_final.info())\n",
    "print(df_final.describe())\n",
    "\n",
    "# Check for missing values\n",
    "print(df_final.isna().sum())"
   ]
  },
  {
   "cell_type": "markdown",
   "id": "7acc4568",
   "metadata": {},
   "source": [
    "A continuación se ve la serie de tiempo de precios de los combustibles, todas las series empiezan desde el 1 de enero de 2021, hasta el 13 de junio de 2025, siendo un total 1655 registros (1 registro diario). De la gráfica se pueden obtener algunas conclusiones:\n",
    "- Los precios varian en escala de semanas, es decir, un precio de combustible suele estar unos cuantos dias/semanas/meses antes de cambiar a un nuevo valor.\n",
    "- Se observa ciertos patrones de estacionalidad entre finales de 2021 y principios de 2023.\n",
    "- El gas licuado es de todos el que mantiene el mismo precio en largos periodos de tiempo."
   ]
  },
  {
   "cell_type": "code",
   "execution_count": 885,
   "id": "d27c0798",
   "metadata": {},
   "outputs": [
    {
     "data": {
      "image/png": "[encoded data removed]",
      "text/plain": [
       "<Figure size 1400x600 with 1 Axes>"
      ]
     },
     "metadata": {},
     "output_type": "display_data"
    }
   ],
   "source": [
    "df_final.plot(figsize=(14, 6), y=['Superior', 'Diesel', 'Gas 25Lbs'], title=\"Precios combustibles de 2021 a 2025\")\n",
    "plt.ylabel(\"Precios\")\n",
    "plt.xlabel(\"Fecha\")\n",
    "plt.grid(True)\n",
    "plt.show()"
   ]
  },
  {
   "cell_type": "markdown",
   "id": "dfd12372",
   "metadata": {},
   "source": [
    "A continuación, también se condujo tests de normalidad sobre los precios de los combustibles, en ninguno de los casos se determinó que un combustible tuviera una distribución normal de precios, sino que era mucho más esporádico."
   ]
  },
  {
   "cell_type": "code",
   "execution_count": 886,
   "id": "93efdb85",
   "metadata": {},
   "outputs": [
    {
     "name": "stdout",
     "output_type": "stream",
     "text": [
      "Superior: p = 3.9915074748457513e-10\n",
      "  -> Not normal\n",
      "Diesel: p = 4.887717605412204e-11\n",
      "  -> Not normal\n",
      "Gas 25Lbs: p = 3.252932875953924e-31\n",
      "  -> Not normal\n"
     ]
    }
   ],
   "source": [
    "for col in [\"Superior\", \"Diesel\", \"Gas 25Lbs\"]:\n",
    "    stat, p = shapiro(df_final[col].dropna())\n",
    "    print(f\"{col}: p = {p}\")\n",
    "    if p > 0.05:\n",
    "        print(\"  -> Likely normal\")\n",
    "    else:\n",
    "        print(\"  -> Not normal\")"
   ]
  },
  {
   "cell_type": "markdown",
   "id": "9739ceea",
   "metadata": {},
   "source": [
    "También se decidio estudiar los meses con precios promdio más alto a lo largo de los años, para descubrir si había alguna relación entre diferentes combustibles, sin embargo, a excepción de 2021 entre diesel y gasolina super, no hay coincidencia entre meses, es decir los incrementos en el precio de un combustible van de la mano con el aumento en el precio de los otros. La tabla a continuación resume los meses de mayor costo promedio para cada año y combustible:"
   ]
  },
  {
   "cell_type": "code",
   "execution_count": 887,
   "id": "6b083402",
   "metadata": {},
   "outputs": [
    {
     "data": {
      "application/vnd.microsoft.datawrangler.viewer.v0+json": {
       "columns": [
        {
         "name": "Año",
         "rawType": "int64",
         "type": "integer"
        },
        {
         "name": "Diesel",
         "rawType": "object",
         "type": "unknown"
        },
        {
         "name": "Superior",
         "rawType": "object",
         "type": "unknown"
        },
        {
         "name": "Gas 25Lbs",
         "rawType": "object",
         "type": "unknown"
        }
       ],
       "ref": "b2c150e0-08d1-490d-97d1-29c6d0b8aa2e",
       "rows": [
        [
         "2021",
         "(2021, 11)",
         "(2021, 11)",
         "(2021, 11)"
        ],
        [
         "2022",
         "(2022, 11)",
         "(2022, 5)",
         "(2022, 3)"
        ],
        [
         "2023",
         "(2023, 1)",
         "(2023, 8)",
         "(2023, 2)"
        ],
        [
         "2024",
         "(2024, 2)",
         "(2024, 4)",
         "(2024, 1)"
        ],
        [
         "2025",
         "(2025, 2)",
         "(2025, 7)",
         "(2025, 3)"
        ]
       ],
       "shape": {
        "columns": 3,
        "rows": 5
       }
      },
      "text/html": [
       "<div>\n",
       "<style scoped>\n",
       "    .dataframe tbody tr th:only-of-type {\n",
       "        vertical-align: middle;\n",
       "    }\n",
       "\n",
       "    .dataframe tbody tr th {\n",
       "        vertical-align: top;\n",
       "    }\n",
       "\n",
       "    .dataframe thead th {\n",
       "        text-align: right;\n",
       "    }\n",
       "</style>\n",
       "<table border=\"1\" class=\"dataframe\">\n",
       "  <thead>\n",
       "    <tr style=\"text-align: right;\">\n",
       "      <th></th>\n",
       "      <th>Diesel</th>\n",
       "      <th>Superior</th>\n",
       "      <th>Gas 25Lbs</th>\n",
       "    </tr>\n",
       "    <tr>\n",
       "      <th>Año</th>\n",
       "      <th></th>\n",
       "      <th></th>\n",
       "      <th></th>\n",
       "    </tr>\n",
       "  </thead>\n",
       "  <tbody>\n",
       "    <tr>\n",
       "      <th>2021</th>\n",
       "      <td>(2021, 11)</td>\n",
       "      <td>(2021, 11)</td>\n",
       "      <td>(2021, 11)</td>\n",
       "    </tr>\n",
       "    <tr>\n",
       "      <th>2022</th>\n",
       "      <td>(2022, 11)</td>\n",
       "      <td>(2022, 5)</td>\n",
       "      <td>(2022, 3)</td>\n",
       "    </tr>\n",
       "    <tr>\n",
       "      <th>2023</th>\n",
       "      <td>(2023, 1)</td>\n",
       "      <td>(2023, 8)</td>\n",
       "      <td>(2023, 2)</td>\n",
       "    </tr>\n",
       "    <tr>\n",
       "      <th>2024</th>\n",
       "      <td>(2024, 2)</td>\n",
       "      <td>(2024, 4)</td>\n",
       "      <td>(2024, 1)</td>\n",
       "    </tr>\n",
       "    <tr>\n",
       "      <th>2025</th>\n",
       "      <td>(2025, 2)</td>\n",
       "      <td>(2025, 7)</td>\n",
       "      <td>(2025, 3)</td>\n",
       "    </tr>\n",
       "  </tbody>\n",
       "</table>\n",
       "</div>"
      ],
      "text/plain": [
       "          Diesel    Superior   Gas 25Lbs\n",
       "Año                                     \n",
       "2021  (2021, 11)  (2021, 11)  (2021, 11)\n",
       "2022  (2022, 11)   (2022, 5)   (2022, 3)\n",
       "2023   (2023, 1)   (2023, 8)   (2023, 2)\n",
       "2024   (2024, 2)   (2024, 4)   (2024, 1)\n",
       "2025   (2025, 2)   (2025, 7)   (2025, 3)"
      ]
     },
     "execution_count": 887,
     "metadata": {},
     "output_type": "execute_result"
    }
   ],
   "source": [
    "monthly_avg = df_final.groupby([\"Año\", \"Month\"])[[\"Diesel\", \"Superior\", \"Gas 25Lbs\"]].mean()\n",
    "max_months = monthly_avg.groupby(\"Año\").idxmax()\n",
    "max_months"
   ]
  },
  {
   "cell_type": "markdown",
   "id": "94bc2789",
   "metadata": {},
   "source": [
    "Por último, en la misma linea de estudio sobre los picos en los precios, se calculo los 3 meses con mayores picos en cada año. Estas son las concluciones descubiertas:\n",
    "\n",
    "- Diesel: De 2021 a 2022, tenia sus picos a finales de año, mientras que para el resto de años los picos ocurrian a principio de año.\n",
    "- Gasolina: No hay una epoca del año común donde los precios aumenten, sin embargo los meses pico suelen ser cercanos.\n",
    "- Gas licuado: La alza de precios suele ocurrir a principios de año."
   ]
  },
  {
   "cell_type": "code",
   "execution_count": 888,
   "id": "c414e458",
   "metadata": {},
   "outputs": [],
   "source": [
    "top3_months_per_year = {}\n",
    "\n",
    "for year, group in monthly_avg.groupby(level=0):  # level=0 is Year\n",
    "    top_months = {}\n",
    "    for fuel in [\"Diesel\", \"Superior\", \"Gas 25Lbs\"]:\n",
    "        top_months[fuel] = group[fuel].nlargest(3)\n",
    "    top3_months_per_year[year] = top_months"
   ]
  },
  {
   "cell_type": "code",
   "execution_count": 889,
   "id": "fca0f7e0",
   "metadata": {},
   "outputs": [
    {
     "name": "stdout",
     "output_type": "stream",
     "text": [
      "\n",
      "Year 2021\n",
      "  Diesel:\n",
      "    noviembre (11): 26.14\n",
      "    octubre (10): 25.29\n",
      "    diciembre (12): 24.50\n",
      "  Superior:\n",
      "    noviembre (11): 30.59\n",
      "    octubre (10): 29.92\n",
      "    septiembre (9): 29.11\n",
      "  Gas 25Lbs:\n",
      "    noviembre (11): 138.67\n",
      "    octubre (10): 132.00\n",
      "    septiembre (9): 123.10\n",
      "\n",
      "Year 2022\n",
      "  Diesel:\n",
      "    noviembre (11): 39.29\n",
      "    octubre (10): 38.29\n",
      "    marzo (3): 35.69\n",
      "  Superior:\n",
      "    mayo (5): 41.45\n",
      "    junio (6): 40.20\n",
      "    abril (4): 37.98\n",
      "  Gas 25Lbs:\n",
      "    marzo (3): 143.45\n",
      "    septiembre (9): 142.00\n",
      "    enero (1): 122.00\n",
      "\n",
      "Year 2023\n",
      "  Diesel:\n",
      "    enero (1): 35.62\n",
      "    febrero (2): 33.93\n",
      "    octubre (10): 33.89\n",
      "  Superior:\n",
      "    agosto (8): 37.15\n",
      "    septiembre (9): 37.10\n",
      "    octubre (10): 35.80\n",
      "  Gas 25Lbs:\n",
      "    febrero (2): 135.00\n",
      "    julio (7): 135.00\n",
      "    agosto (8): 135.00\n",
      "\n",
      "Year 2024\n",
      "  Diesel:\n",
      "    febrero (2): 30.48\n",
      "    marzo (3): 30.07\n",
      "    abril (4): 29.87\n",
      "  Superior:\n",
      "    abril (4): 35.31\n",
      "    marzo (3): 33.79\n",
      "    mayo (5): 33.63\n",
      "  Gas 25Lbs:\n",
      "    enero (1): 115.00\n",
      "    febrero (2): 115.00\n",
      "    marzo (3): 115.00\n",
      "\n",
      "Year 2025\n",
      "  Diesel:\n",
      "    febrero (2): 27.52\n",
      "    julio (7): 26.98\n",
      "    enero (1): 26.80\n",
      "  Superior:\n",
      "    julio (7): 30.97\n",
      "    abril (4): 30.58\n",
      "    febrero (2): 30.56\n",
      "  Gas 25Lbs:\n",
      "    marzo (3): 120.00\n",
      "    abril (4): 120.00\n",
      "    mayo (5): 120.00\n"
     ]
    }
   ],
   "source": [
    "import calendar\n",
    "\n",
    "for year, fuels in top3_months_per_year.items():\n",
    "    print(f\"\\nYear {year}\")\n",
    "    for fuel, series in fuels.items():\n",
    "        print(f\"  {fuel}:\")\n",
    "        for (y, m), val in series.items():\n",
    "            month_name = calendar.month_name[m]\n",
    "            print(f\"    {month_name} ({m}): {val:.2f}\")"
   ]
  },
  {
   "cell_type": "markdown",
   "id": "1143502c",
   "metadata": {},
   "source": [
    "## Series de tiempo"
   ]
  },
  {
   "cell_type": "code",
   "execution_count": 890,
   "id": "aff189f3",
   "metadata": {},
   "outputs": [],
   "source": [
    "df_final.index = pd.to_datetime(df_final.index)\n"
   ]
  },
  {
   "cell_type": "markdown",
   "id": "5352a324",
   "metadata": {},
   "source": [
    "### Precios de Gasolina Super"
   ]
  },
  {
   "cell_type": "markdown",
   "id": "dfe37a6e",
   "metadata": {},
   "source": [
    "#### Análisis\n",
    "\n",
    "A continuación se encuentra el análisos de los precios de la gasolina super, empezando por información básica sobre dichas series:\n",
    "\n",
    "|INICIO | FIN | Registros totales | \n",
    "|-------|-----|------|\n",
    "|1/1/2021 | 13/6/2025 | 1655\n",
    "\n",
    "Empezando por una descomposición de la serie (siguiente figura) se puede descubrir patrones poco claros. Como se discutió antes los precios durnate 2021 son anómalos al ser en gran medida influenciados por la pandemia Covid-19; seguido de un pico histórico que coincide con el embargo de Rusia en combustibles fósiles; **ambos sucesos no recurrentes, que afectan la variabilidad del modelo y la facilidad para determinar estacionaridad en la misma**.\n",
    "\n",
    "Esto se ve reflejado en la sección de \"Trend\" como un valle histórico seguido de un pico, que ha ido descreciendo a lo largo de los años."
   ]
  },
  {
   "cell_type": "code",
   "execution_count": 891,
   "id": "0e93860a",
   "metadata": {},
   "outputs": [
    {
     "data": {
      "image/png": "[encoded data removed]",
      "text/plain": [
       "<Figure size 640x480 with 4 Axes>"
      ]
     },
     "metadata": {},
     "output_type": "display_data"
    }
   ],
   "source": [
    "descomposicion = seasonal_decompose(df_final[\"Superior\"], period=365)\n",
    "descomposicion.plot();"
   ]
  },
  {
   "cell_type": "markdown",
   "id": "12f646ce",
   "metadata": {},
   "source": [
    "Este segundo gráfico muestra como la media y varianza móvil distan mucho ser consante al verse afectada por los valles y picos causados por la pandemia y la guerra."
   ]
  },
  {
   "cell_type": "code",
   "execution_count": 892,
   "id": "14a280bb",
   "metadata": {},
   "outputs": [
    {
     "data": {
      "image/png": "[encoded data removed]",
      "text/plain": [
       "<Figure size 640x480 with 1 Axes>"
      ]
     },
     "metadata": {},
     "output_type": "display_data"
    }
   ],
   "source": [
    "# Se calcula la media móvil y la desviación estandar móvil de los últimos 12 meses.\n",
    "mediaMovil = df_final[\"Superior\"].rolling(window=365).mean()\n",
    "deMovil = df_final[\"Superior\"].rolling(window=365).std()\n",
    "# Se grafican los resultados.\n",
    "original = plt.plot(df_final[\"Superior\"], color=\"blue\", label=\"Original\")\n",
    "media = plt.plot(mediaMovil, color='red', label = 'Media Movil')\n",
    "ds = plt.plot(deMovil,color='black', label = 'Desviación Estándar Móvil')\n",
    "plt.legend(loc = 'best')\n",
    "plt.title('Media y desviación estándar móvil')\n",
    "plt.show(block=False)"
   ]
  },
  {
   "cell_type": "markdown",
   "id": "85f2f64e",
   "metadata": {},
   "source": [
    "**Frecuencias**\n",
    "\n",
    "Un análisis de frecuencias por medio de histograma nos revela los precios más frecuentes a lo largo de los 4 se encuentra entre el rango de Q29.00 a Q34.00, además de una distribución no normal."
   ]
  },
  {
   "cell_type": "code",
   "execution_count": 893,
   "id": "a81ec169",
   "metadata": {},
   "outputs": [
    {
     "data": {
      "image/png": "[encoded data removed]",
      "text/plain": [
       "<Figure size 1000x500 with 1 Axes>"
      ]
     },
     "metadata": {},
     "output_type": "display_data"
    }
   ],
   "source": [
    "df_final[\"Superior\"].plot(kind=\"hist\", figsize=(10, 5), title=\"Histograma de valores\", bins=20)\n",
    "plt.xlabel(\"Frecuencia\")\n",
    "plt.ylabel(\"Precios\")\n",
    "plt.grid(True)\n",
    "plt.show()"
   ]
  },
  {
   "cell_type": "code",
   "execution_count": 894,
   "id": "6ba07f79",
   "metadata": {},
   "outputs": [],
   "source": [
    "df_final = df_final[df_final.index.year > 2020]"
   ]
  },
  {
   "cell_type": "markdown",
   "id": "26ab2f2e",
   "metadata": {},
   "source": [
    "De los gráficos anteriores se puede disnernir que la serie no parece ser estacionaria ni en media o varianza, un análisis más profundo tendrá que llevarse a cabo."
   ]
  },
  {
   "cell_type": "markdown",
   "id": "23280092",
   "metadata": {},
   "source": [
    "### Determinación de Estacionaridad\n",
    "\n",
    "**Estacionaridad en varianza**\n",
    "\n",
    "De la exploración previa se descubrió que la varianza podría no ser constante, lo cual es confirmado por los 3 tests estadísticos siguientes donde indican heterocedasticidad cuando p < 0.05. Es por ello que se aplicará una transformación de boxcox para suavizar dicha varianza.\n"
   ]
  },
  {
   "cell_type": "code",
   "execution_count": 895,
   "id": "38378928",
   "metadata": {},
   "outputs": [
    {
     "data": {
      "application/vnd.microsoft.datawrangler.viewer.v0+json": {
       "columns": [
        {
         "name": "index",
         "rawType": "int64",
         "type": "integer"
        },
        {
         "name": "Test",
         "rawType": "object",
         "type": "string"
        },
        {
         "name": "p-value",
         "rawType": "float64",
         "type": "float"
        }
       ],
       "ref": "9b1e01b4-9127-474b-9ccb-a516b111a937",
       "rows": [
        [
         "0",
         "White",
         "4.925572884504482e-50"
        ],
        [
         "1",
         "Breusch-Pagan",
         "3.8628083785925463e-47"
        ],
        [
         "2",
         "Goldfeld-Quandt",
         "6.786013655867498e-55"
        ]
       ],
       "shape": {
        "columns": 2,
        "rows": 3
       }
      },
      "text/html": [
       "<div>\n",
       "<style scoped>\n",
       "    .dataframe tbody tr th:only-of-type {\n",
       "        vertical-align: middle;\n",
       "    }\n",
       "\n",
       "    .dataframe tbody tr th {\n",
       "        vertical-align: top;\n",
       "    }\n",
       "\n",
       "    .dataframe thead th {\n",
       "        text-align: right;\n",
       "    }\n",
       "</style>\n",
       "<table border=\"1\" class=\"dataframe\">\n",
       "  <thead>\n",
       "    <tr style=\"text-align: right;\">\n",
       "      <th></th>\n",
       "      <th>Test</th>\n",
       "      <th>p-value</th>\n",
       "    </tr>\n",
       "  </thead>\n",
       "  <tbody>\n",
       "    <tr>\n",
       "      <th>0</th>\n",
       "      <td>White</td>\n",
       "      <td>4.925573e-50</td>\n",
       "    </tr>\n",
       "    <tr>\n",
       "      <th>1</th>\n",
       "      <td>Breusch-Pagan</td>\n",
       "      <td>3.862808e-47</td>\n",
       "    </tr>\n",
       "    <tr>\n",
       "      <th>2</th>\n",
       "      <td>Goldfeld-Quandt</td>\n",
       "      <td>6.786014e-55</td>\n",
       "    </tr>\n",
       "  </tbody>\n",
       "</table>\n",
       "</div>"
      ],
      "text/plain": [
       "              Test       p-value\n",
       "0            White  4.925573e-50\n",
       "1    Breusch-Pagan  3.862808e-47\n",
       "2  Goldfeld-Quandt  6.786014e-55"
      ]
     },
     "execution_count": 895,
     "metadata": {},
     "output_type": "execute_result"
    }
   ],
   "source": [
    "resultados = Heteroskedasticity.run_all_tests(df_final['Superior'])\n",
    "df_results = pd.DataFrame(list(resultados.items()), columns=['Test', 'p-value'])\n",
    "df_results"
   ]
  },
  {
   "cell_type": "code",
   "execution_count": 896,
   "id": "cdd0786a",
   "metadata": {},
   "outputs": [],
   "source": [
    "transformed, fitted_lambda = boxcox(df_final[\"Superior\"])\n",
    "df_final.loc[df_final.index, \"Superior-fixed\"] = transformed"
   ]
  },
  {
   "cell_type": "markdown",
   "id": "30c514b3",
   "metadata": {},
   "source": [
    "Se puede ver una reducción notable en la variana a lo largo de la series antes y después de boxcox."
   ]
  },
  {
   "cell_type": "code",
   "execution_count": 897,
   "id": "dbde9926",
   "metadata": {},
   "outputs": [
    {
     "data": {
      "image/png": "[encoded data removed]",
      "text/plain": [
       "<Figure size 1400x400 with 2 Axes>"
      ]
     },
     "metadata": {},
     "output_type": "display_data"
    }
   ],
   "source": [
    "fig, axes = plt.subplots(1, 2, figsize=(14, 4), sharey=True)\n",
    "\n",
    "# Plot first rolling std dev\n",
    "df_final['Superior'].rolling(window=365).std().plot(ax=axes[0], title=\"Desv. Std Antes de la transformación\")\n",
    "axes[0].set_ylabel(\"Standard Deviation\")\n",
    "axes[0].grid(True)\n",
    "\n",
    "# Plot second rolling std dev\n",
    "df_final['Superior-fixed'].rolling(window=365).std().plot(ax=axes[1], title=\"Desv. Std Después de la transformación\")\n",
    "axes[1].grid(True)\n",
    "\n",
    "plt.tight_layout()\n",
    "plt.show()"
   ]
  },
  {
   "cell_type": "markdown",
   "id": "fd2d0da4",
   "metadata": {},
   "source": [
    "Sin embargo, los tests siguen siendo fallidos, esto puede ser causado por la variabilidad \"artificial\" introducida por la pandemia y la guerra. Sin embargo, se mantendrá la transformación dado que la figure previa muestra una atenuación en los picos y valles de la misma."
   ]
  },
  {
   "cell_type": "code",
   "execution_count": 898,
   "id": "5605bb3b",
   "metadata": {},
   "outputs": [
    {
     "data": {
      "application/vnd.microsoft.datawrangler.viewer.v0+json": {
       "columns": [
        {
         "name": "index",
         "rawType": "int64",
         "type": "integer"
        },
        {
         "name": "Test",
         "rawType": "object",
         "type": "string"
        },
        {
         "name": "p-value",
         "rawType": "float64",
         "type": "float"
        }
       ],
       "ref": "794a5685-3441-4e4d-b26d-9eabe1c780f1",
       "rows": [
        [
         "0",
         "White",
         "1.7371765264742683e-55"
        ],
        [
         "1",
         "Breusch-Pagan",
         "1.1152397274420115e-49"
        ],
        [
         "2",
         "Goldfeld-Quandt",
         "1.4215699939067749e-52"
        ]
       ],
       "shape": {
        "columns": 2,
        "rows": 3
       }
      },
      "text/html": [
       "<div>\n",
       "<style scoped>\n",
       "    .dataframe tbody tr th:only-of-type {\n",
       "        vertical-align: middle;\n",
       "    }\n",
       "\n",
       "    .dataframe tbody tr th {\n",
       "        vertical-align: top;\n",
       "    }\n",
       "\n",
       "    .dataframe thead th {\n",
       "        text-align: right;\n",
       "    }\n",
       "</style>\n",
       "<table border=\"1\" class=\"dataframe\">\n",
       "  <thead>\n",
       "    <tr style=\"text-align: right;\">\n",
       "      <th></th>\n",
       "      <th>Test</th>\n",
       "      <th>p-value</th>\n",
       "    </tr>\n",
       "  </thead>\n",
       "  <tbody>\n",
       "    <tr>\n",
       "      <th>0</th>\n",
       "      <td>White</td>\n",
       "      <td>1.737177e-55</td>\n",
       "    </tr>\n",
       "    <tr>\n",
       "      <th>1</th>\n",
       "      <td>Breusch-Pagan</td>\n",
       "      <td>1.115240e-49</td>\n",
       "    </tr>\n",
       "    <tr>\n",
       "      <th>2</th>\n",
       "      <td>Goldfeld-Quandt</td>\n",
       "      <td>1.421570e-52</td>\n",
       "    </tr>\n",
       "  </tbody>\n",
       "</table>\n",
       "</div>"
      ],
      "text/plain": [
       "              Test       p-value\n",
       "0            White  1.737177e-55\n",
       "1    Breusch-Pagan  1.115240e-49\n",
       "2  Goldfeld-Quandt  1.421570e-52"
      ]
     },
     "execution_count": 898,
     "metadata": {},
     "output_type": "execute_result"
    }
   ],
   "source": [
    "resultados = Heteroskedasticity.run_all_tests(df_final['Superior-fixed'])\n",
    "df_results = pd.DataFrame(list(resultados.items()), columns=['Test', 'p-value'])\n",
    "df_results"
   ]
  },
  {
   "cell_type": "markdown",
   "id": "772539cb",
   "metadata": {},
   "source": [
    "**Estacionaridad en media**\n",
    "\n",
    "De lo visto en el análisis exploratorio, la media tampoco se mostraba constante teniendo un ritmo creciente hasta 2022 donde la tendencia se volvio decreciente. Esto es reforzado viendo el correlograma donde la correlación cae lenta y continuamente, siendo indicio de **no estacionariedad en media.**"
   ]
  },
  {
   "cell_type": "code",
   "execution_count": 899,
   "id": "bd1208a4",
   "metadata": {},
   "outputs": [
    {
     "data": {
      "image/png": "[encoded data removed]",
      "text/plain": [
       "<Figure size 640x480 with 1 Axes>"
      ]
     },
     "metadata": {},
     "output_type": "display_data"
    }
   ],
   "source": [
    "series = df_final[\"Superior\"]\n",
    "\n",
    "# Plot correlogram (ACF plot)\n",
    "plot_acf(series, lags=60)\n",
    "plt.title(\"Correlograma (ACF) - Gasolina Superior\")\n",
    "plt.show()"
   ]
  },
  {
   "cell_type": "markdown",
   "id": "a4641c49",
   "metadata": {},
   "source": [
    "Por otro lado, el test de Dicker Fuller al tener un p < 0.05 indica hay estacionaridad en media."
   ]
  },
  {
   "cell_type": "code",
   "execution_count": 900,
   "id": "31d3ff2e",
   "metadata": {},
   "outputs": [
    {
     "name": "stdout",
     "output_type": "stream",
     "text": [
      "Resultados del Test de Dickey Fuller\n"
     ]
    },
    {
     "data": {
      "application/vnd.microsoft.datawrangler.viewer.v0+json": {
       "columns": [
        {
         "name": "index",
         "rawType": "object",
         "type": "string"
        },
        {
         "name": "0",
         "rawType": "float64",
         "type": "float"
        }
       ],
       "ref": "290422f5-07c3-4fe6-ac6d-ff7bc55c6154",
       "rows": [
        [
         "Estadístico de prueba",
         "-3.097851874509315"
        ],
        [
         "p-value",
         "0.02671256835470618"
        ],
        [
         "# de retardos usados",
         "7.0"
        ],
        [
         "# de observaciones usadas",
         "1647.0"
        ],
        [
         "Critical Value (1%)",
         "-3.4343266370047805"
        ],
        [
         "Critical Value (5%)",
         "-2.863296457495669"
        ],
        [
         "Critical Value (10%)",
         "-2.567705097465208"
        ]
       ],
       "shape": {
        "columns": 1,
        "rows": 7
       }
      },
      "text/plain": [
       "Estadístico de prueba          -3.097852\n",
       "p-value                         0.026713\n",
       "# de retardos usados            7.000000\n",
       "# de observaciones usadas    1647.000000\n",
       "Critical Value (1%)            -3.434327\n",
       "Critical Value (5%)            -2.863296\n",
       "Critical Value (10%)           -2.567705\n",
       "dtype: float64"
      ]
     },
     "execution_count": 900,
     "metadata": {},
     "output_type": "execute_result"
    }
   ],
   "source": [
    "print('Resultados del Test de Dickey Fuller')\n",
    "dfTest = adfuller(df_final[\"Superior\"], autolag='AIC')\n",
    "salidaDf = pd.Series(dfTest[0:4], index=['Estadístico de prueba','p-value','# de retardos usados','# de observaciones usadas'])\n",
    "for key,value in dfTest[4].items():\n",
    "        salidaDf['Critical Value (%s)'%key] = value\n",
    "salidaDf"
   ]
  },
  {
   "cell_type": "markdown",
   "id": "252c0c13",
   "metadata": {},
   "source": [
    "Un segundo test estadistitico KPSS, al tener un p < 0.5 da positivo para heterocedasticidad. Juntanto todas las pruebas, se considera que **no estacionaridad en media, por lo que habrá que diferenciar la serie.**"
   ]
  },
  {
   "cell_type": "code",
   "execution_count": 901,
   "id": "47d8b95a",
   "metadata": {},
   "outputs": [
    {
     "name": "stderr",
     "output_type": "stream",
     "text": [
      "/tmp/ipykernel_56936/1074177925.py:2: InterpolationWarning: The test statistic is outside of the range of p-values available in the\n",
      "look-up table. The actual p-value is smaller than the p-value returned.\n",
      "\n",
      "  stat, p_value, lags, crit = kpss(df_final[\"Superior\"].values, regression=\"ct\")\n"
     ]
    },
    {
     "data": {
      "application/vnd.microsoft.datawrangler.viewer.v0+json": {
       "columns": [
        {
         "name": "index",
         "rawType": "int64",
         "type": "integer"
        },
        {
         "name": "Parametro",
         "rawType": "object",
         "type": "string"
        },
        {
         "name": "valor",
         "rawType": "float64",
         "type": "float"
        }
       ],
       "ref": "d8c8d3b9-9fa3-49ef-a0cb-17ccb1ab5710",
       "rows": [
        [
         "0",
         "Test Statistic",
         "0.9904971914511275"
        ],
        [
         "1",
         "p-value",
         "0.01"
        ],
        [
         "2",
         "Lags Used",
         "26.0"
        ],
        [
         "3",
         "Critical Value (10%)",
         "0.119"
        ],
        [
         "4",
         "Critical Value (5%)",
         "0.146"
        ],
        [
         "5",
         "Critical Value (2.5%)",
         "0.176"
        ],
        [
         "6",
         "Critical Value (1%)",
         "0.216"
        ]
       ],
       "shape": {
        "columns": 2,
        "rows": 7
       }
      },
      "text/html": [
       "<div>\n",
       "<style scoped>\n",
       "    .dataframe tbody tr th:only-of-type {\n",
       "        vertical-align: middle;\n",
       "    }\n",
       "\n",
       "    .dataframe tbody tr th {\n",
       "        vertical-align: top;\n",
       "    }\n",
       "\n",
       "    .dataframe thead th {\n",
       "        text-align: right;\n",
       "    }\n",
       "</style>\n",
       "<table border=\"1\" class=\"dataframe\">\n",
       "  <thead>\n",
       "    <tr style=\"text-align: right;\">\n",
       "      <th></th>\n",
       "      <th>Parametro</th>\n",
       "      <th>valor</th>\n",
       "    </tr>\n",
       "  </thead>\n",
       "  <tbody>\n",
       "    <tr>\n",
       "      <th>0</th>\n",
       "      <td>Test Statistic</td>\n",
       "      <td>0.990497</td>\n",
       "    </tr>\n",
       "    <tr>\n",
       "      <th>1</th>\n",
       "      <td>p-value</td>\n",
       "      <td>0.010000</td>\n",
       "    </tr>\n",
       "    <tr>\n",
       "      <th>2</th>\n",
       "      <td>Lags Used</td>\n",
       "      <td>26.000000</td>\n",
       "    </tr>\n",
       "    <tr>\n",
       "      <th>3</th>\n",
       "      <td>Critical Value (10%)</td>\n",
       "      <td>0.119000</td>\n",
       "    </tr>\n",
       "    <tr>\n",
       "      <th>4</th>\n",
       "      <td>Critical Value (5%)</td>\n",
       "      <td>0.146000</td>\n",
       "    </tr>\n",
       "    <tr>\n",
       "      <th>5</th>\n",
       "      <td>Critical Value (2.5%)</td>\n",
       "      <td>0.176000</td>\n",
       "    </tr>\n",
       "    <tr>\n",
       "      <th>6</th>\n",
       "      <td>Critical Value (1%)</td>\n",
       "      <td>0.216000</td>\n",
       "    </tr>\n",
       "  </tbody>\n",
       "</table>\n",
       "</div>"
      ],
      "text/plain": [
       "               Parametro      valor\n",
       "0         Test Statistic   0.990497\n",
       "1                p-value   0.010000\n",
       "2              Lags Used  26.000000\n",
       "3   Critical Value (10%)   0.119000\n",
       "4    Critical Value (5%)   0.146000\n",
       "5  Critical Value (2.5%)   0.176000\n",
       "6    Critical Value (1%)   0.216000"
      ]
     },
     "execution_count": 901,
     "metadata": {},
     "output_type": "execute_result"
    }
   ],
   "source": [
    "# Run KPSS test\n",
    "stat, p_value, lags, crit = kpss(df_final[\"Superior\"].values, regression=\"ct\")\n",
    "\n",
    "# Prepare dictionary\n",
    "kpss_result = {\n",
    "    \"Test Statistic\": stat,\n",
    "    \"p-value\": p_value,\n",
    "    \"Lags Used\": lags,\n",
    "    **{f\"Critical Value ({k})\": v for k, v in crit.items()}\n",
    "}\n",
    "\n",
    "\n",
    "df_results = pd.DataFrame(list(kpss_result.items()), columns=['Parametro', 'valor'])\n",
    "df_results"
   ]
  },
  {
   "cell_type": "markdown",
   "id": "1e21fce1",
   "metadata": {},
   "source": [
    "Tras la diferenciacion, ambos test estadísticos dieron positivo para homocedasticidad. Sin embargo el test KPSS todavía se encuentra cerca de la frontera para ser considerado heterecedastico, así que se podria diferenciar 2 a 4 veces."
   ]
  },
  {
   "cell_type": "code",
   "execution_count": 902,
   "id": "3eec96d5",
   "metadata": {},
   "outputs": [
    {
     "name": "stdout",
     "output_type": "stream",
     "text": [
      "Resultados del Test de Dickey Fuller\n"
     ]
    },
    {
     "data": {
      "application/vnd.microsoft.datawrangler.viewer.v0+json": {
       "columns": [
        {
         "name": "index",
         "rawType": "object",
         "type": "string"
        },
        {
         "name": "0",
         "rawType": "float64",
         "type": "float"
        }
       ],
       "ref": "4f158d28-c5a6-43d4-8d6d-f68cee165076",
       "rows": [
        [
         "Estadístico de prueba",
         "-11.197255483451196"
        ],
        [
         "p-value",
         "2.2900848902895633e-20"
        ],
        [
         "# de retardos usados",
         "6.0"
        ],
        [
         "# de observaciones usadas",
         "1647.0"
        ],
        [
         "Critical Value (1%)",
         "-3.4343266370047805"
        ],
        [
         "Critical Value (5%)",
         "-2.863296457495669"
        ],
        [
         "Critical Value (10%)",
         "-2.567705097465208"
        ]
       ],
       "shape": {
        "columns": 1,
        "rows": 7
       }
      },
      "text/plain": [
       "Estadístico de prueba       -1.119726e+01\n",
       "p-value                      2.290085e-20\n",
       "# de retardos usados         6.000000e+00\n",
       "# de observaciones usadas    1.647000e+03\n",
       "Critical Value (1%)         -3.434327e+00\n",
       "Critical Value (5%)         -2.863296e+00\n",
       "Critical Value (10%)        -2.567705e+00\n",
       "dtype: float64"
      ]
     },
     "execution_count": 902,
     "metadata": {},
     "output_type": "execute_result"
    }
   ],
   "source": [
    "print('Resultados del Test de Dickey Fuller')\n",
    "dfTest = adfuller(df_final[\"Superior\"].diff().dropna(), autolag='AIC')\n",
    "salidaDf = pd.Series(dfTest[0:4], index=['Estadístico de prueba','p-value','# de retardos usados','# de observaciones usadas'])\n",
    "for key,value in dfTest[4].items():\n",
    "        salidaDf['Critical Value (%s)'%key] = value\n",
    "salidaDf"
   ]
  },
  {
   "cell_type": "code",
   "execution_count": 903,
   "id": "fee1ba14",
   "metadata": {},
   "outputs": [
    {
     "name": "stderr",
     "output_type": "stream",
     "text": [
      "/tmp/ipykernel_56936/3976747430.py:2: InterpolationWarning: The test statistic is outside of the range of p-values available in the\n",
      "look-up table. The actual p-value is greater than the p-value returned.\n",
      "\n",
      "  stat, p_value, lags, crit = kpss(df_final[\"Superior\"].diff().dropna().values, regression=\"ct\")\n"
     ]
    },
    {
     "data": {
      "application/vnd.microsoft.datawrangler.viewer.v0+json": {
       "columns": [
        {
         "name": "index",
         "rawType": "int64",
         "type": "integer"
        },
        {
         "name": "Parametro",
         "rawType": "object",
         "type": "string"
        },
        {
         "name": "valor",
         "rawType": "float64",
         "type": "float"
        }
       ],
       "ref": "eda19468-6472-4fee-b044-0d92b8549686",
       "rows": [
        [
         "0",
         "Test Statistic",
         "0.07016358415761488"
        ],
        [
         "1",
         "p-value",
         "0.1"
        ],
        [
         "2",
         "Lags Used",
         "4.0"
        ],
        [
         "3",
         "Critical Value (10%)",
         "0.119"
        ],
        [
         "4",
         "Critical Value (5%)",
         "0.146"
        ],
        [
         "5",
         "Critical Value (2.5%)",
         "0.176"
        ],
        [
         "6",
         "Critical Value (1%)",
         "0.216"
        ]
       ],
       "shape": {
        "columns": 2,
        "rows": 7
       }
      },
      "text/html": [
       "<div>\n",
       "<style scoped>\n",
       "    .dataframe tbody tr th:only-of-type {\n",
       "        vertical-align: middle;\n",
       "    }\n",
       "\n",
       "    .dataframe tbody tr th {\n",
       "        vertical-align: top;\n",
       "    }\n",
       "\n",
       "    .dataframe thead th {\n",
       "        text-align: right;\n",
       "    }\n",
       "</style>\n",
       "<table border=\"1\" class=\"dataframe\">\n",
       "  <thead>\n",
       "    <tr style=\"text-align: right;\">\n",
       "      <th></th>\n",
       "      <th>Parametro</th>\n",
       "      <th>valor</th>\n",
       "    </tr>\n",
       "  </thead>\n",
       "  <tbody>\n",
       "    <tr>\n",
       "      <th>0</th>\n",
       "      <td>Test Statistic</td>\n",
       "      <td>0.070164</td>\n",
       "    </tr>\n",
       "    <tr>\n",
       "      <th>1</th>\n",
       "      <td>p-value</td>\n",
       "      <td>0.100000</td>\n",
       "    </tr>\n",
       "    <tr>\n",
       "      <th>2</th>\n",
       "      <td>Lags Used</td>\n",
       "      <td>4.000000</td>\n",
       "    </tr>\n",
       "    <tr>\n",
       "      <th>3</th>\n",
       "      <td>Critical Value (10%)</td>\n",
       "      <td>0.119000</td>\n",
       "    </tr>\n",
       "    <tr>\n",
       "      <th>4</th>\n",
       "      <td>Critical Value (5%)</td>\n",
       "      <td>0.146000</td>\n",
       "    </tr>\n",
       "    <tr>\n",
       "      <th>5</th>\n",
       "      <td>Critical Value (2.5%)</td>\n",
       "      <td>0.176000</td>\n",
       "    </tr>\n",
       "    <tr>\n",
       "      <th>6</th>\n",
       "      <td>Critical Value (1%)</td>\n",
       "      <td>0.216000</td>\n",
       "    </tr>\n",
       "  </tbody>\n",
       "</table>\n",
       "</div>"
      ],
      "text/plain": [
       "               Parametro     valor\n",
       "0         Test Statistic  0.070164\n",
       "1                p-value  0.100000\n",
       "2              Lags Used  4.000000\n",
       "3   Critical Value (10%)  0.119000\n",
       "4    Critical Value (5%)  0.146000\n",
       "5  Critical Value (2.5%)  0.176000\n",
       "6    Critical Value (1%)  0.216000"
      ]
     },
     "execution_count": 903,
     "metadata": {},
     "output_type": "execute_result"
    }
   ],
   "source": [
    "# Run KPSS test\n",
    "stat, p_value, lags, crit = kpss(df_final[\"Superior\"].diff().dropna().values, regression=\"ct\")\n",
    "\n",
    "# Prepare dictionary\n",
    "kpss_result = {\n",
    "    \"Test Statistic\": stat,\n",
    "    \"p-value\": p_value,\n",
    "    \"Lags Used\": lags,\n",
    "    **{f\"Critical Value ({k})\": v for k, v in crit.items()}\n",
    "}\n",
    "\n",
    "\n",
    "df_results = pd.DataFrame(list(kpss_result.items()), columns=['Parametro', 'valor'])\n",
    "df_results"
   ]
  },
  {
   "cell_type": "markdown",
   "id": "ba5df290",
   "metadata": {},
   "source": [
    "### Generación de modelos\n",
    "\n",
    "**SARIMAX**\n",
    "\n",
    "En base a lo estudiado en la sección anterior, la serie será transformada con coxbox seguido de 1 a 3 diferenciaciónes. Sin embargo, primero hay que decidir los valores de `p` y `q` usando las gráficas ACF y PACF."
   ]
  },
  {
   "cell_type": "code",
   "execution_count": 904,
   "id": "6ec29e95",
   "metadata": {},
   "outputs": [
    {
     "data": {
      "image/png": "[encoded data removed]",
      "text/plain": [
       "<Figure size 1600x400 with 2 Axes>"
      ]
     },
     "metadata": {},
     "output_type": "display_data"
    }
   ],
   "source": [
    "series = df_final[df_final.index.year > 2022]['Superior'].diff().dropna()\n",
    "\n",
    "# Plot ACF and PACF\n",
    "fig, ax = plt.subplots(1, 2, figsize=(16, 4))\n",
    "plot_acf(series, lags=14, ax=ax[0])\n",
    "plot_pacf(series, lags=14, ax=ax[1])\n",
    "plt.show()"
   ]
  },
  {
   "cell_type": "markdown",
   "id": "c8a43bd4",
   "metadata": {},
   "source": [
    "Los gráficos muestran cortes abruptos después del primer retardo, por lo que p=1 y q=1. \n",
    "\n",
    "**Estacionariedad**\n",
    "\n",
    "De los gráficos ACF y PACF anteriores se pueden apreciar pequeños picos que sobresalen cada 7 lags, por lo que se harán unos nuevos gráficos ACF y PACF considerando ese componente estacional. De las nuevas figuras tambien se deduce un corte después de 1 lag P = 1, D = 1."
   ]
  },
  {
   "cell_type": "code",
   "execution_count": 905,
   "id": "689de8d4",
   "metadata": {},
   "outputs": [
    {
     "data": {
      "image/png": "[encoded data removed]",
      "text/plain": [
       "<Figure size 1600x400 with 2 Axes>"
      ]
     },
     "metadata": {},
     "output_type": "display_data"
    }
   ],
   "source": [
    "series = df_final[df_final.index.year > 2022]['Superior'].diff().diff(7).dropna()\n",
    "\n",
    "# Plot ACF and PACF\n",
    "fig, ax = plt.subplots(1, 2, figsize=(16, 4))\n",
    "plot_acf(series, lags=14, ax=ax[0])\n",
    "plot_pacf(series, lags=14, ax=ax[1])\n",
    "plt.show()"
   ]
  },
  {
   "cell_type": "markdown",
   "id": "1580f0b6",
   "metadata": {},
   "source": [
    "Con eso listo, se creo un modelo SARIMAX, con los siguientes resultados:"
   ]
  },
  {
   "cell_type": "code",
   "execution_count": null,
   "id": "7d5f785c",
   "metadata": {},
   "outputs": [
    {
     "name": "stderr",
     "output_type": "stream",
     "text": [
      "/home/smaug/Documents/DataScience/lab1/.venv/lib/python3.13/site-packages/statsmodels/tsa/base/tsa_model.py:473: ValueWarning: No frequency information was provided, so inferred frequency D will be used.\n",
      "  self._init_dates(dates, freq)\n",
      "/home/smaug/Documents/DataScience/lab1/.venv/lib/python3.13/site-packages/statsmodels/tsa/base/tsa_model.py:473: ValueWarning: No frequency information was provided, so inferred frequency D will be used.\n",
      "  self._init_dates(dates, freq)\n"
     ]
    },
    {
     "name": "stdout",
     "output_type": "stream",
     "text": [
      "==============================================================================\n",
      "                 coef    std err          z      P>|z|      [0.025      0.975]\n",
      "------------------------------------------------------------------------------\n",
      "ar.L1         -0.0136      0.029     -0.464      0.642      -0.071       0.044\n",
      "ma.L1         -1.0000      3.456     -0.289      0.772      -7.773       5.773\n",
      "ar.S.L7       -0.3372      0.007    -50.114      0.000      -0.350      -0.324\n",
      "sigma2         0.0066      0.023      0.289      0.772      -0.038       0.052\n",
      "==============================================================================\n",
      "AIC: -3128.4549630260944\n",
      "BIC: -3107.3542737482835\n"
     ]
    }
   ],
   "source": [
    "df_final[\"event_2020_2022\"] = ((df_final.index >= \"2020-01-01\") & (df_final.index <= \"2022-12-31\")).astype(int)\n",
    "\n",
    "df_train = df_final[(df_final.index.year > 2020) & (df_final.index.year < 2025)]\n",
    "df_test = df_final[df_final.index.year >= 2025]\n",
    "\n",
    "exog_train = df_train[[\"event_2020_2022\"]]\n",
    "\n",
    "modelo121 = SARIMAX(\n",
    "    df_train['Superior-fixed'], \n",
    "    order=(1,2,1), \n",
    "    seasonal_order=(0,1,0,7), \n",
    "    enforce_stationarity=False, \n",
    "    enforce_invertibility=False)\n",
    "resultado_m121 = modelo121.fit()\n",
    "print(resultado_m121.summary().tables[1])\n",
    "print(\"AIC:\", resultado_m121.aic)\n",
    "print(\"BIC:\", resultado_m121.bic)"
   ]
  },
  {
   "cell_type": "code",
   "execution_count": 924,
   "id": "abd38aa1",
   "metadata": {},
   "outputs": [
    {
     "data": {
      "image/png": "[encoded data removed]",
      "text/plain": [
       "<Figure size 1800x800 with 4 Axes>"
      ]
     },
     "metadata": {},
     "output_type": "display_data"
    }
   ],
   "source": [
    "resultado_m121.plot_diagnostics(figsize=(18, 8))\n",
    "plt.show()"
   ]
  },
  {
   "cell_type": "code",
   "execution_count": 930,
   "id": "4996b871",
   "metadata": {},
   "outputs": [
    {
     "data": {
      "image/png": "[encoded data removed]",
      "text/plain": [
       "<Figure size 1200x500 with 1 Axes>"
      ]
     },
     "metadata": {},
     "output_type": "display_data"
    }
   ],
   "source": [
    "pred = resultado_m121.get_forecast(steps=len(df_test))\n",
    "predicted_mean = pred.predicted_mean\n",
    "\n",
    "# Subset predictions and test data to 2023–2025\n",
    "start_date = \"2023-01-01\"\n",
    "end_date = \"2025-12-31\"\n",
    "\n",
    "# Filter test set and forecast results\n",
    "pred_index = df_test.index  # Forecast index matches test set\n",
    "forecast_series = pd.Series(predicted_mean.values, index=pred_index)\n",
    "conf_int = pred.conf_int()\n",
    "\n",
    "# Slice to desired date range\n",
    "forecast_series = forecast_series[start_date:end_date]\n",
    "conf_int = conf_int.loc[start_date:end_date]\n",
    "actual_test = df_test['Superior-fixed'][start_date:end_date]\n",
    "\n",
    "plt.figure(figsize=(12, 5))\n",
    "plt.plot(actual_test.index, actual_test, label='Actual', color='orange')\n",
    "plt.plot(forecast_series.index, forecast_series, label='Forecast', color='blue')\n",
    "plt.title(\"Forecast vs Actual (2023–2025)\")\n",
    "plt.xlabel(\"Date\")\n",
    "plt.ylabel(\"Value\")\n",
    "plt.legend()\n",
    "plt.grid(True)\n",
    "plt.tight_layout()\n",
    "plt.show()"
   ]
  },
  {
   "cell_type": "markdown",
   "id": "63beb101",
   "metadata": {},
   "source": [
    "Se puede observar que el modelo solo pudo ajustarse durante la primera mitad del mes, "
   ]
  }
 ],
 "metadata": {
  "kernelspec": {
   "display_name": ".venv",
   "language": "python",
   "name": "python3"
  },
  "language_info": {
   "codemirror_mode": {
    "name": "ipython",
    "version": 3
   },
   "file_extension": ".py",
   "mimetype": "text/x-python",
   "name": "python",
   "nbconvert_exporter": "python",
   "pygments_lexer": "ipython3",
   "version": "3.13.5"
  }
 },
 "nbformat": 4,
 "nbformat_minor": 5
}
