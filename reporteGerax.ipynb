{
 "cells": [
  {
   "cell_type": "code",
   "execution_count": 1,
   "id": "77082b7b",
   "metadata": {},
   "outputs": [],
   "source": [
    "# pip install openpyxl instalar esto\n",
    "import rdata\n",
    "import pandas as pd\n",
    "import matplotlib.pyplot as plt\n",
    "import numpy as np\n",
    "\n",
    "import statsmodels.tsa as tsa\n",
    "import statsmodels as sm\n",
    "from datetime import datetime\n",
    "from statsmodels.tsa.stattools import adfuller\n",
    "from statsmodels.tsa.seasonal import seasonal_decompose\n",
    "from statsmodels.tsa.stattools import acf, pacf\n",
    "from statsmodels.tsa.arima_model import ARIMA\n",
    "from statsmodels.tsa.statespace.sarimax import SARIMAX\n",
    "from scipy.stats import shapiro"
   ]
  },
  {
   "cell_type": "code",
   "execution_count": 2,
   "id": "bb8893c3",
   "metadata": {},
   "outputs": [],
   "source": [
    "xls = pd.read_excel(\"./data/preciosLimpio.xlsx\", sheet_name=None)\n",
    "\n",
    "resultados = {}\n",
    "\n",
    "for nombre_hoja, df in xls.items():\n",
    "    hoja_df = pd.read_excel(\"./data/preciosLimpio.xlsx\", sheet_name=nombre_hoja, header=7, usecols=\"A,C,D,E,F,G,H\")\n",
    "    resultados[nombre_hoja] = hoja_df"
   ]
  },
  {
   "cell_type": "code",
   "execution_count": 3,
   "id": "6972bf5a",
   "metadata": {},
   "outputs": [],
   "source": [
    "for nombre_hoja in resultados:\n",
    "    df = resultados[nombre_hoja]\n",
    "    resultados[nombre_hoja] = df.iloc[1:].reset_index(drop=True)"
   ]
  },
  {
   "cell_type": "code",
   "execution_count": 4,
   "id": "fdbe0c52",
   "metadata": {},
   "outputs": [],
   "source": [
    "df_final = pd.DataFrame()\n",
    "\n",
    "for nombre_hoja, df in resultados.items():\n",
    "    df[\"Año\"] = nombre_hoja\n",
    "    df_final = pd.concat([df_final, df], ignore_index=True)"
   ]
  },
  {
   "cell_type": "code",
   "execution_count": 5,
   "id": "cb17ce2d",
   "metadata": {},
   "outputs": [],
   "source": [
    "df_final.drop(columns=[\"Bunker\"], inplace=True)\n",
    "df_final.set_index(\"FECHA\", inplace=True)\n",
    "df_final.sort_index(ascending=True, inplace=True)"
   ]
  },
  {
   "cell_type": "code",
   "execution_count": 19,
   "id": "af598bdd",
   "metadata": {},
   "outputs": [],
   "source": [
    "df_final.index = pd.to_datetime(df_final.index)\n",
    "\n",
    "# Filtrar test: todo el año 2025\n",
    "test_gas = df_final[df_final.index.year == 2025]\n",
    "\n",
    "# Filtrar train: todo antes de 2025\n",
    "train_gas = df_final[df_final.index.year < 2025]\n"
   ]
  },
  {
   "cell_type": "code",
   "execution_count": 17,
   "id": "18caff13",
   "metadata": {},
   "outputs": [
    {
     "data": {
      "application/vnd.microsoft.datawrangler.viewer.v0+json": {
       "columns": [
        {
         "name": "FECHA",
         "rawType": "datetime64[ns]",
         "type": "datetime"
        },
        {
         "name": "Año",
         "rawType": "object",
         "type": "string"
        }
       ],
       "ref": "04aafe33-b61f-40b2-83a1-b47714476b03",
       "rows": [
        [
         "2021-01-01 00:00:00",
         "2021"
        ],
        [
         "2021-01-02 00:00:00",
         "2021"
        ],
        [
         "2021-01-03 00:00:00",
         "2021"
        ],
        [
         "2021-01-04 00:00:00",
         "2021"
        ],
        [
         "2021-01-05 00:00:00",
         "2021"
        ],
        [
         "2021-01-06 00:00:00",
         "2021"
        ],
        [
         "2021-01-07 00:00:00",
         "2021"
        ],
        [
         "2021-01-08 00:00:00",
         "2021"
        ],
        [
         "2021-01-09 00:00:00",
         "2021"
        ],
        [
         "2021-01-10 00:00:00",
         "2021"
        ],
        [
         "2021-01-11 00:00:00",
         "2021"
        ],
        [
         "2021-01-12 00:00:00",
         "2021"
        ],
        [
         "2021-01-13 00:00:00",
         "2021"
        ],
        [
         "2021-01-14 00:00:00",
         "2021"
        ],
        [
         "2021-01-15 00:00:00",
         "2021"
        ],
        [
         "2021-01-16 00:00:00",
         "2021"
        ],
        [
         "2021-01-17 00:00:00",
         "2021"
        ],
        [
         "2021-01-18 00:00:00",
         "2021"
        ],
        [
         "2021-01-19 00:00:00",
         "2021"
        ],
        [
         "2021-01-20 00:00:00",
         "2021"
        ],
        [
         "2021-01-21 00:00:00",
         "2021"
        ],
        [
         "2021-01-22 00:00:00",
         "2021"
        ],
        [
         "2021-01-23 00:00:00",
         "2021"
        ],
        [
         "2021-01-24 00:00:00",
         "2021"
        ],
        [
         "2021-01-25 00:00:00",
         "2021"
        ],
        [
         "2021-01-26 00:00:00",
         "2021"
        ],
        [
         "2021-01-27 00:00:00",
         "2021"
        ],
        [
         "2021-01-28 00:00:00",
         "2021"
        ],
        [
         "2021-01-29 00:00:00",
         "2021"
        ],
        [
         "2021-01-30 00:00:00",
         "2021"
        ],
        [
         "2021-01-31 00:00:00",
         "2021"
        ],
        [
         "2021-02-01 00:00:00",
         "2021"
        ],
        [
         "2021-02-02 00:00:00",
         "2021"
        ],
        [
         "2021-02-03 00:00:00",
         "2021"
        ],
        [
         "2021-02-04 00:00:00",
         "2021"
        ],
        [
         "2021-02-05 00:00:00",
         "2021"
        ],
        [
         "2021-02-06 00:00:00",
         "2021"
        ],
        [
         "2021-02-07 00:00:00",
         "2021"
        ],
        [
         "2021-02-08 00:00:00",
         "2021"
        ],
        [
         "2021-02-09 00:00:00",
         "2021"
        ],
        [
         "2021-02-10 00:00:00",
         "2021"
        ],
        [
         "2021-02-11 00:00:00",
         "2021"
        ],
        [
         "2021-02-12 00:00:00",
         "2021"
        ],
        [
         "2021-02-13 00:00:00",
         "2021"
        ],
        [
         "2021-02-14 00:00:00",
         "2021"
        ],
        [
         "2021-02-15 00:00:00",
         "2021"
        ],
        [
         "2021-02-16 00:00:00",
         "2021"
        ],
        [
         "2021-02-17 00:00:00",
         "2021"
        ],
        [
         "2021-02-18 00:00:00",
         "2021"
        ],
        [
         "2021-02-19 00:00:00",
         "2021"
        ]
       ],
       "shape": {
        "columns": 1,
        "rows": 1461
       }
      },
      "text/plain": [
       "FECHA\n",
       "2021-01-01    2021\n",
       "2021-01-02    2021\n",
       "2021-01-03    2021\n",
       "2021-01-04    2021\n",
       "2021-01-05    2021\n",
       "              ... \n",
       "2024-12-27    2024\n",
       "2024-12-28    2024\n",
       "2024-12-29    2024\n",
       "2024-12-30    2024\n",
       "2024-12-31    2024\n",
       "Freq: D, Name: Año, Length: 1461, dtype: object"
      ]
     },
     "execution_count": 17,
     "metadata": {},
     "output_type": "execute_result"
    }
   ],
   "source": [
    "train_gas[\"Año\"]"
   ]
  },
  {
   "cell_type": "code",
   "execution_count": 18,
   "id": "c9a2ac0e",
   "metadata": {},
   "outputs": [
    {
     "name": "stdout",
     "output_type": "stream",
     "text": [
      "Inicio: 2021-01-01 00:00:00\n",
      "Fin: 2024-12-31 00:00:00\n",
      "Frecuencia estimada: D\n"
     ]
    }
   ],
   "source": [
    "# Asegurar que el índice es datetime\n",
    "train_gas.index = pd.to_datetime(train_gas.index)\n",
    "\n",
    "# Ver inicio y fin\n",
    "print(\"Inicio:\", train_gas.index.min())\n",
    "print(\"Fin:\", train_gas.index.max())\n",
    "\n",
    "# Verificar frecuencia estimada\n",
    "frecuencia = pd.infer_freq(train_gas.index)\n",
    "print(\"Frecuencia estimada:\", frecuencia)\n",
    "\n",
    "# Si no tiene frecuencia definida, puedes asignarla si sabes que es diaria\n",
    "train_gas = train_gas.asfreq('D')\n"
   ]
  }
 ],
 "metadata": {
  "kernelspec": {
   "display_name": "Python 3",
   "language": "python",
   "name": "python3"
  },
  "language_info": {
   "codemirror_mode": {
    "name": "ipython",
    "version": 3
   },
   "file_extension": ".py",
   "mimetype": "text/x-python",
   "name": "python",
   "nbconvert_exporter": "python",
   "pygments_lexer": "ipython3",
   "version": "3.11.9"
  }
 },
 "nbformat": 4,
 "nbformat_minor": 5
}
